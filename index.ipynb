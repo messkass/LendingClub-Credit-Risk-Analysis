{
 "cells": [
  {
   "cell_type": "markdown",
   "metadata": {},
   "source": [
    "## Lending Club Data Credit Risk Analysis - Predicting Defaults"
   ]
  },
  {
   "cell_type": "markdown",
   "metadata": {},
   "source": [
    "## Introduction\n",
    "\n",
    "For this project I chose a dataset from Lending Club approved personnal loans between 2007 and 2011. The data can be found on www.lendingclub.com. The purpose of the analysis is to improve profitablity and help the company and investors determine interest rates. We will use machine learning models to model credit risk as a binary classification problem.  "
   ]
  },
  {
   "cell_type": "markdown",
   "metadata": {},
   "source": [
    "## Table of Content\n",
    "\n",
    "- **Introduction**\n",
    "- **Importing Libraries**\n",
    "- **Creating Function**\n",
    "    - Confusion Matrix plot\n",
    "    - Feature importance plot\n",
    "    - Rocurve plot\n",
    "    - Minimum PCA\n",
    "    - FPR and TPR\n",
    "- **Exploratory Data Analysis**\n",
    "    - Reading Data\n",
    "    - Exploring Data\n",
    "        -Target Column\n",
    "        -Features Selection\n",
    "    - Cleaning\n",
    "        - Missing Values\n",
    "        - Formating Numerical Data\n",
    "        - Creating dummie variables for Categorical\n",
    "- **Modeling** \n",
    "    - Selecting performance metrics\n",
    "    - SMOT for class imbalance\n",
    "    - Logistic Regression\n",
    "    - SVM with PCA\n",
    "    - Random Forest\n",
    "    - XG Boost\n",
    "- **Conclusion**\n",
    "- **Next Steps**"
   ]
  },
  {
   "cell_type": "markdown",
   "metadata": {},
   "source": [
    "## Importing Libraries"
   ]
  },
  {
   "cell_type": "code",
   "execution_count": 81,
   "metadata": {},
   "outputs": [],
   "source": [
    "import pandas as pd\n",
    "import numpy as np\n",
    "\n",
    "from sklearn.model_selection import KFold\n",
    "from sklearn.linear_model import LogisticRegression\n",
    "from sklearn.model_selection import cross_val_predict\n",
    "from sklearn.ensemble import RandomForestClassifier\n",
    "from sklearn.model_selection import train_test_split\n",
    "from sklearn.preprocessing import StandardScaler\n",
    "from sklearn.tree import DecisionTreeClassifier\n",
    "from sklearn.metrics import accuracy_score, confusion_matrix, classification_report\n",
    "from sklearn import svm\n",
    "from sklearn.pipeline import Pipeline\n",
    "from sklearn.metrics import recall_score\n",
    "from scipy import stats \n",
    "import statsmodels.api as sm\n",
    "from statsmodels.formula.api import ols\n",
    "from sklearn.decomposition import PCA\n",
    "import matplotlib.pyplot as plt\n",
    "import warnings\n",
    "\n",
    "import itertools\n",
    "\n",
    "from imblearn.over_sampling import SMOTE\n",
    "\n",
    "%matplotlib inline\n",
    "warnings.filterwarnings('ignore')"
   ]
  },
  {
   "cell_type": "markdown",
   "metadata": {},
   "source": [
    "## Functions"
   ]
  },
  {
   "cell_type": "code",
   "execution_count": 82,
   "metadata": {},
   "outputs": [],
   "source": [
    "#Function to plot confusion matrix\n",
    "#------------------------------------------------------------------------------------------------------------------------------\n",
    "def plot_confusion_matrix(cm, classes,\n",
    "                          normalize=False,\n",
    "                          title='Confusion matrix',\n",
    "                          cmap=plt.cm.Blues):\n",
    "    #Add Normalization Option\n",
    "    if normalize:\n",
    "        cm = cm.astype('float') / cm.sum(axis=1)[:, np.newaxis]\n",
    "        print(\"Normalized confusion matrix\")\n",
    "    else:\n",
    "        print('Confusion matrix, without normalization')\n",
    "\n",
    "    print(cm)\n",
    "\n",
    "    plt.imshow(cm, interpolation='nearest', cmap=cmap)\n",
    "    plt.title(title)\n",
    "    plt.colorbar()\n",
    "    tick_marks = np.arange(len(classes))\n",
    "    plt.xticks(tick_marks, classes, rotation=45)\n",
    "    plt.yticks(tick_marks, classes)\n",
    "\n",
    "    fmt = '.2f' if normalize else 'd'\n",
    "    thresh = cm.max() / 2.\n",
    "    for i, j in itertools.product(range(cm.shape[0]), range(cm.shape[1])):\n",
    "        plt.text(j, i, format(cm[i, j], fmt),\n",
    "                 horizontalalignment=\"center\",\n",
    "                 color=\"white\" if cm[i, j] > thresh else \"black\")\n",
    "\n",
    "    plt.tight_layout()\n",
    "    plt.ylabel('True label')\n",
    "    plt.xlabel('Predicted label')"
   ]
  },
  {
   "cell_type": "code",
   "execution_count": 83,
   "metadata": {},
   "outputs": [],
   "source": [
    "#Plot Feature inportance\n",
    "#---------------------------------------------------------------------------------------\n",
    "def plot_feature_importances(model,X_train):\n",
    "    n_features = X_train.shape[1]\n",
    "    plt.figure(figsize=(8,8))\n",
    "    plt.barh(range(n_features), model.feature_importances_, align='center') \n",
    "    plt.yticks(np.arange(n_features), X_train.columns.values) \n",
    "    plt.xlabel(\"Feature importance\")\n",
    "    plt.ylabel(\"Feature\")"
   ]
  },
  {
   "cell_type": "code",
   "execution_count": 84,
   "metadata": {},
   "outputs": [],
   "source": [
    "def rocurve(logreg, X_train, X_test, y_train, y_test):\n",
    "    \n",
    "    from sklearn.metrics import roc_curve, auc\n",
    "    import matplotlib.pyplot as plt\n",
    "    import seaborn as sns\n",
    "    %matplotlib inline\n",
    "    \n",
    "    y_test_score = logreg.decision_function(X_test)\n",
    "    y_train_score = logreg.decision_function(X_train)\n",
    "\n",
    "    test_fpr, test_tpr, test_thresholds = roc_curve(y_test, y_test_score)\n",
    "    train_fpr, train_tpr, train_thresholds = roc_curve(y_train, y_train_score)\n",
    "\n",
    "    print('Test AUC: {}'.format(auc(test_fpr, test_tpr)))\n",
    "    print('train AUC: {}'.format(auc(train_fpr, train_tpr)))\n",
    "\n",
    "    plt.figure(figsize=(10,8))\n",
    "    lw = 2\n",
    "    plt.plot(test_fpr, test_tpr, color='darkorange',\n",
    "             lw=lw, label='Test ROC curve')\n",
    "    plt.plot(train_fpr, train_tpr, color='blue',\n",
    "             lw=lw, label='train ROC curve')\n",
    "    plt.plot([0, 1], [0, 1], color='navy', lw=lw, linestyle='--')\n",
    "    plt.xlim([0.0, 1.0])\n",
    "    plt.ylim([0.0, 1.05])\n",
    "    plt.yticks([i/20.0 for i in range(21)])\n",
    "    plt.xticks([i/20.0 for i in range(21)])\n",
    "    plt.xlabel('False Positive Rate')\n",
    "    plt.ylabel('True Positive Rate')\n",
    "    plt.title('Receiver operating characteristic (ROC) Curve')\n",
    "    plt.legend(loc=\"lower right\")\n",
    "    plt.show()"
   ]
  },
  {
   "cell_type": "code",
   "execution_count": 85,
   "metadata": {},
   "outputs": [],
   "source": [
    "#Determining the number of dimensions to preserve given level of variance\n",
    "#---------------------------------------------------------------------------------------------------------------------------\n",
    "def find_min_pca(X_train, percentage=0.8):\n",
    "    \n",
    "    from sklearn.decomposition import PCA\n",
    "    \n",
    "    \n",
    "    inital_components=pd.DataFrame(X_train).shape[1]\n",
    "    if inital_components<10:\n",
    "        print('The Data has less than 10 components, no PCA needed')\n",
    "    else:\n",
    "        a=int(str(inital_components)[-1])\n",
    "        tens=int((inital_components-a)/10)\n",
    "        for i in range(1,tens+1):\n",
    "        \n",
    "            \n",
    "            \n",
    "            pca = PCA(n_components=(i)*10)\n",
    "            principalComponents = pca.fit_transform(X_train)\n",
    "            explained_var= np.sum(pca.explained_variance_ratio_)\n",
    "        \n",
    "            \n",
    "            \n",
    "            if explained_var>=percentage:\n",
    "                upper=i\n",
    "                break\n",
    "        \n",
    "        \n",
    "\n",
    "        for j in range((upper-1)*10,(upper)*10):\n",
    "            pca = PCA(n_components=j)\n",
    "            principalComponents = pca.fit_transform(X_train)                \n",
    "            explained_var1= np.sum(pca.explained_variance_ratio_)\n",
    "            if explained_var1>percentage:\n",
    "                comp=j\n",
    "                break\n",
    "                    \n",
    "                        \n",
    "            \n",
    "            \n",
    "    return  comp  \n",
    "    \n",
    "   "
   ]
  },
  {
   "cell_type": "code",
   "execution_count": 329,
   "metadata": {},
   "outputs": [],
   "source": [
    "#Determine FPR and TPR of a model\n",
    "#---------------------------------------------------------------------------------------------------------------\n",
    "def perf(y_test, y_pred):\n",
    "    from sklearn.metrics import confusion_matrix\n",
    "    tn, fp, fn, tp = confusion_matrix(y_test, y_pred).ravel()\n",
    "    fpr = round(fp  / (fp + tn),2)*100\n",
    "    tpr= round(tp / (tp+fn),2)*100\n",
    "    \n",
    "    return(print(tpr,'% of the positives are appropriately identified, and ',fpr,'% of the negatives are appropriately identified.'))"
   ]
  },
  {
   "cell_type": "markdown",
   "metadata": {},
   "source": [
    "## Exploratory Data Analysis"
   ]
  },
  {
   "cell_type": "markdown",
   "metadata": {},
   "source": [
    "### - Raading the Data"
   ]
  },
  {
   "cell_type": "code",
   "execution_count": 284,
   "metadata": {},
   "outputs": [
    {
     "name": "stdout",
     "output_type": "stream",
     "text": [
      "(42538, 52)\n"
     ]
    },
    {
     "data": {
      "text/html": [
       "<div>\n",
       "<style scoped>\n",
       "    .dataframe tbody tr th:only-of-type {\n",
       "        vertical-align: middle;\n",
       "    }\n",
       "\n",
       "    .dataframe tbody tr th {\n",
       "        vertical-align: top;\n",
       "    }\n",
       "\n",
       "    .dataframe thead th {\n",
       "        text-align: right;\n",
       "    }\n",
       "</style>\n",
       "<table border=\"1\" class=\"dataframe\">\n",
       "  <thead>\n",
       "    <tr style=\"text-align: right;\">\n",
       "      <th></th>\n",
       "      <th>id</th>\n",
       "      <th>member_id</th>\n",
       "      <th>loan_amnt</th>\n",
       "      <th>funded_amnt</th>\n",
       "      <th>funded_amnt_inv</th>\n",
       "      <th>term</th>\n",
       "      <th>int_rate</th>\n",
       "      <th>installment</th>\n",
       "      <th>grade</th>\n",
       "      <th>sub_grade</th>\n",
       "      <th>...</th>\n",
       "      <th>last_pymnt_amnt</th>\n",
       "      <th>last_credit_pull_d</th>\n",
       "      <th>collections_12_mths_ex_med</th>\n",
       "      <th>policy_code</th>\n",
       "      <th>application_type</th>\n",
       "      <th>acc_now_delinq</th>\n",
       "      <th>chargeoff_within_12_mths</th>\n",
       "      <th>delinq_amnt</th>\n",
       "      <th>pub_rec_bankruptcies</th>\n",
       "      <th>tax_liens</th>\n",
       "    </tr>\n",
       "  </thead>\n",
       "  <tbody>\n",
       "    <tr>\n",
       "      <th>0</th>\n",
       "      <td>1077501</td>\n",
       "      <td>1296599.0</td>\n",
       "      <td>5000.0</td>\n",
       "      <td>5000.0</td>\n",
       "      <td>4975.0</td>\n",
       "      <td>36 months</td>\n",
       "      <td>10.65%</td>\n",
       "      <td>162.87</td>\n",
       "      <td>B</td>\n",
       "      <td>B2</td>\n",
       "      <td>...</td>\n",
       "      <td>171.62</td>\n",
       "      <td>Jun-2016</td>\n",
       "      <td>0.0</td>\n",
       "      <td>1.0</td>\n",
       "      <td>INDIVIDUAL</td>\n",
       "      <td>0.0</td>\n",
       "      <td>0.0</td>\n",
       "      <td>0.0</td>\n",
       "      <td>0.0</td>\n",
       "      <td>0.0</td>\n",
       "    </tr>\n",
       "    <tr>\n",
       "      <th>1</th>\n",
       "      <td>1077430</td>\n",
       "      <td>1314167.0</td>\n",
       "      <td>2500.0</td>\n",
       "      <td>2500.0</td>\n",
       "      <td>2500.0</td>\n",
       "      <td>60 months</td>\n",
       "      <td>15.27%</td>\n",
       "      <td>59.83</td>\n",
       "      <td>C</td>\n",
       "      <td>C4</td>\n",
       "      <td>...</td>\n",
       "      <td>119.66</td>\n",
       "      <td>Sep-2013</td>\n",
       "      <td>0.0</td>\n",
       "      <td>1.0</td>\n",
       "      <td>INDIVIDUAL</td>\n",
       "      <td>0.0</td>\n",
       "      <td>0.0</td>\n",
       "      <td>0.0</td>\n",
       "      <td>0.0</td>\n",
       "      <td>0.0</td>\n",
       "    </tr>\n",
       "    <tr>\n",
       "      <th>2</th>\n",
       "      <td>1077175</td>\n",
       "      <td>1313524.0</td>\n",
       "      <td>2400.0</td>\n",
       "      <td>2400.0</td>\n",
       "      <td>2400.0</td>\n",
       "      <td>36 months</td>\n",
       "      <td>15.96%</td>\n",
       "      <td>84.33</td>\n",
       "      <td>C</td>\n",
       "      <td>C5</td>\n",
       "      <td>...</td>\n",
       "      <td>649.91</td>\n",
       "      <td>Jun-2016</td>\n",
       "      <td>0.0</td>\n",
       "      <td>1.0</td>\n",
       "      <td>INDIVIDUAL</td>\n",
       "      <td>0.0</td>\n",
       "      <td>0.0</td>\n",
       "      <td>0.0</td>\n",
       "      <td>0.0</td>\n",
       "      <td>0.0</td>\n",
       "    </tr>\n",
       "    <tr>\n",
       "      <th>3</th>\n",
       "      <td>1076863</td>\n",
       "      <td>1277178.0</td>\n",
       "      <td>10000.0</td>\n",
       "      <td>10000.0</td>\n",
       "      <td>10000.0</td>\n",
       "      <td>36 months</td>\n",
       "      <td>13.49%</td>\n",
       "      <td>339.31</td>\n",
       "      <td>C</td>\n",
       "      <td>C1</td>\n",
       "      <td>...</td>\n",
       "      <td>357.48</td>\n",
       "      <td>Apr-2016</td>\n",
       "      <td>0.0</td>\n",
       "      <td>1.0</td>\n",
       "      <td>INDIVIDUAL</td>\n",
       "      <td>0.0</td>\n",
       "      <td>0.0</td>\n",
       "      <td>0.0</td>\n",
       "      <td>0.0</td>\n",
       "      <td>0.0</td>\n",
       "    </tr>\n",
       "    <tr>\n",
       "      <th>4</th>\n",
       "      <td>1075358</td>\n",
       "      <td>1311748.0</td>\n",
       "      <td>3000.0</td>\n",
       "      <td>3000.0</td>\n",
       "      <td>3000.0</td>\n",
       "      <td>60 months</td>\n",
       "      <td>12.69%</td>\n",
       "      <td>67.79</td>\n",
       "      <td>B</td>\n",
       "      <td>B5</td>\n",
       "      <td>...</td>\n",
       "      <td>67.79</td>\n",
       "      <td>Jun-2016</td>\n",
       "      <td>0.0</td>\n",
       "      <td>1.0</td>\n",
       "      <td>INDIVIDUAL</td>\n",
       "      <td>0.0</td>\n",
       "      <td>0.0</td>\n",
       "      <td>0.0</td>\n",
       "      <td>0.0</td>\n",
       "      <td>0.0</td>\n",
       "    </tr>\n",
       "  </tbody>\n",
       "</table>\n",
       "<p>5 rows × 52 columns</p>\n",
       "</div>"
      ],
      "text/plain": [
       "        id  member_id  loan_amnt  funded_amnt  funded_amnt_inv        term  \\\n",
       "0  1077501  1296599.0     5000.0       5000.0           4975.0   36 months   \n",
       "1  1077430  1314167.0     2500.0       2500.0           2500.0   60 months   \n",
       "2  1077175  1313524.0     2400.0       2400.0           2400.0   36 months   \n",
       "3  1076863  1277178.0    10000.0      10000.0          10000.0   36 months   \n",
       "4  1075358  1311748.0     3000.0       3000.0           3000.0   60 months   \n",
       "\n",
       "  int_rate  installment grade sub_grade    ...    last_pymnt_amnt  \\\n",
       "0   10.65%       162.87     B        B2    ...             171.62   \n",
       "1   15.27%        59.83     C        C4    ...             119.66   \n",
       "2   15.96%        84.33     C        C5    ...             649.91   \n",
       "3   13.49%       339.31     C        C1    ...             357.48   \n",
       "4   12.69%        67.79     B        B5    ...              67.79   \n",
       "\n",
       "  last_credit_pull_d collections_12_mths_ex_med  policy_code application_type  \\\n",
       "0           Jun-2016                        0.0          1.0       INDIVIDUAL   \n",
       "1           Sep-2013                        0.0          1.0       INDIVIDUAL   \n",
       "2           Jun-2016                        0.0          1.0       INDIVIDUAL   \n",
       "3           Apr-2016                        0.0          1.0       INDIVIDUAL   \n",
       "4           Jun-2016                        0.0          1.0       INDIVIDUAL   \n",
       "\n",
       "  acc_now_delinq chargeoff_within_12_mths delinq_amnt pub_rec_bankruptcies  \\\n",
       "0            0.0                      0.0         0.0                  0.0   \n",
       "1            0.0                      0.0         0.0                  0.0   \n",
       "2            0.0                      0.0         0.0                  0.0   \n",
       "3            0.0                      0.0         0.0                  0.0   \n",
       "4            0.0                      0.0         0.0                  0.0   \n",
       "\n",
       "  tax_liens  \n",
       "0       0.0  \n",
       "1       0.0  \n",
       "2       0.0  \n",
       "3       0.0  \n",
       "4       0.0  \n",
       "\n",
       "[5 rows x 52 columns]"
      ]
     },
     "execution_count": 284,
     "metadata": {},
     "output_type": "execute_result"
    }
   ],
   "source": [
    "data = pd.read_csv('loans_2007.csv')\n",
    "\n",
    "print(data.shape)\n",
    "data.head()"
   ]
  },
  {
   "cell_type": "code",
   "execution_count": 285,
   "metadata": {},
   "outputs": [
    {
     "data": {
      "text/plain": [
       "Index(['id', 'member_id', 'loan_amnt', 'funded_amnt', 'funded_amnt_inv',\n",
       "       'term', 'int_rate', 'installment', 'grade', 'sub_grade', 'emp_title',\n",
       "       'emp_length', 'home_ownership', 'annual_inc', 'verification_status',\n",
       "       'issue_d', 'loan_status', 'pymnt_plan', 'purpose', 'title', 'zip_code',\n",
       "       'addr_state', 'dti', 'delinq_2yrs', 'earliest_cr_line',\n",
       "       'inq_last_6mths', 'open_acc', 'pub_rec', 'revol_bal', 'revol_util',\n",
       "       'total_acc', 'initial_list_status', 'out_prncp', 'out_prncp_inv',\n",
       "       'total_pymnt', 'total_pymnt_inv', 'total_rec_prncp', 'total_rec_int',\n",
       "       'total_rec_late_fee', 'recoveries', 'collection_recovery_fee',\n",
       "       'last_pymnt_d', 'last_pymnt_amnt', 'last_credit_pull_d',\n",
       "       'collections_12_mths_ex_med', 'policy_code', 'application_type',\n",
       "       'acc_now_delinq', 'chargeoff_within_12_mths', 'delinq_amnt',\n",
       "       'pub_rec_bankruptcies', 'tax_liens'],\n",
       "      dtype='object')"
      ]
     },
     "execution_count": 285,
     "metadata": {},
     "output_type": "execute_result"
    }
   ],
   "source": [
    "data.columns"
   ]
  },
  {
   "cell_type": "markdown",
   "metadata": {},
   "source": [
    "### - Data Exploration"
   ]
  },
  {
   "cell_type": "markdown",
   "metadata": {},
   "source": [
    "**Target Column**"
   ]
  },
  {
   "cell_type": "code",
   "execution_count": 286,
   "metadata": {},
   "outputs": [
    {
     "data": {
      "text/plain": [
       "Fully Paid                                             33136\n",
       "Charged Off                                             5634\n",
       "Does not meet the credit policy. Status:Fully Paid      1988\n",
       "Current                                                  961\n",
       "Does not meet the credit policy. Status:Charged Off      761\n",
       "Late (31-120 days)                                        24\n",
       "In Grace Period                                           20\n",
       "Late (16-30 days)                                          8\n",
       "Default                                                    3\n",
       "Name: loan_status, dtype: int64"
      ]
     },
     "execution_count": 286,
     "metadata": {},
     "output_type": "execute_result"
    }
   ],
   "source": [
    "data.loan_status.value_counts()"
   ]
  },
  {
   "cell_type": "markdown",
   "metadata": {},
   "source": [
    "**Fully Paid (33136):** Loan has been fully paid off.\n",
    "\n",
    "**Charged Off (5634):** Loan for which there is no longer a reasonable expectation of further payments."
   ]
  },
  {
   "cell_type": "markdown",
   "metadata": {},
   "source": [
    "The target columns is labeled loan_status. The machine learning models we are going to build will aim to predict if the loan status is likely to be paid in full or not. Using a binary classifier, the successful outcome marked by a 1 is Fully paid for the loan status and the unsuccesful outcome marked by 0 is Charged Off for the loan status, all intermediary statuses won't be relevant for our analysis and these rows will be ignored."
   ]
  },
  {
   "cell_type": "code",
   "execution_count": 287,
   "metadata": {},
   "outputs": [],
   "source": [
    "data = data[(data['loan_status'] == 'Fully Paid') | (data['loan_status'] == 'Charged Off')]\n"
   ]
  },
  {
   "cell_type": "code",
   "execution_count": 288,
   "metadata": {},
   "outputs": [
    {
     "data": {
      "text/plain": [
       "Fully Paid     33136\n",
       "Charged Off     5634\n",
       "Name: loan_status, dtype: int64"
      ]
     },
     "execution_count": 288,
     "metadata": {},
     "output_type": "execute_result"
    }
   ],
   "source": [
    "data.loan_status.value_counts()"
   ]
  },
  {
   "cell_type": "code",
   "execution_count": 289,
   "metadata": {},
   "outputs": [],
   "source": [
    "#Converting to binary data\n",
    "#-----------------------------------------------------------------------------------------------------------------------------\n",
    "data.loan_status[(data['loan_status']  == 'Fully Paid')]=0\n",
    "data.loan_status[(data['loan_status']  == 'Charged Off')]=1"
   ]
  },
  {
   "cell_type": "code",
   "execution_count": 290,
   "metadata": {},
   "outputs": [
    {
     "data": {
      "text/plain": [
       "0        0.0\n",
       "1        1.0\n",
       "2        0.0\n",
       "3        0.0\n",
       "5        0.0\n",
       "6        0.0\n",
       "7        0.0\n",
       "8        1.0\n",
       "9        1.0\n",
       "10       0.0\n",
       "11       0.0\n",
       "12       1.0\n",
       "13       0.0\n",
       "14       1.0\n",
       "15       0.0\n",
       "16       0.0\n",
       "17       0.0\n",
       "18       0.0\n",
       "19       0.0\n",
       "20       0.0\n",
       "21       1.0\n",
       "22       0.0\n",
       "23       0.0\n",
       "24       1.0\n",
       "25       0.0\n",
       "26       1.0\n",
       "27       1.0\n",
       "28       0.0\n",
       "29       0.0\n",
       "30       0.0\n",
       "        ... \n",
       "39756    0.0\n",
       "39757    1.0\n",
       "39758    0.0\n",
       "39759    0.0\n",
       "39760    0.0\n",
       "39761    0.0\n",
       "39762    0.0\n",
       "39763    0.0\n",
       "39764    0.0\n",
       "39765    0.0\n",
       "39766    0.0\n",
       "39767    0.0\n",
       "39768    0.0\n",
       "39769    0.0\n",
       "39770    0.0\n",
       "39771    0.0\n",
       "39772    0.0\n",
       "39773    0.0\n",
       "39774    0.0\n",
       "39775    0.0\n",
       "39776    0.0\n",
       "39777    0.0\n",
       "39778    0.0\n",
       "39779    0.0\n",
       "39780    0.0\n",
       "39781    0.0\n",
       "39782    0.0\n",
       "39783    0.0\n",
       "39784    0.0\n",
       "39785    0.0\n",
       "Name: loan_status, Length: 38770, dtype: float64"
      ]
     },
     "execution_count": 290,
     "metadata": {},
     "output_type": "execute_result"
    }
   ],
   "source": [
    "data.loan_status.astype(float)"
   ]
  },
  {
   "cell_type": "markdown",
   "metadata": {},
   "source": [
    "**Inspecting and selecting predictive columns**"
   ]
  },
  {
   "cell_type": "code",
   "execution_count": 291,
   "metadata": {},
   "outputs": [
    {
     "data": {
      "text/plain": [
       "52"
      ]
     },
     "execution_count": 291,
     "metadata": {},
     "output_type": "execute_result"
    }
   ],
   "source": [
    "len(data.columns)"
   ]
  },
  {
   "cell_type": "markdown",
   "metadata": {},
   "source": [
    "Because of the high number of columns we will inspect the columns ten by ten for simplicity and to avoid potential human error while handling over 50 features manually at once."
   ]
  },
  {
   "cell_type": "code",
   "execution_count": 292,
   "metadata": {},
   "outputs": [],
   "source": [
    "#creating a lists to store columns we will retain as categorical or numerical\n",
    "#------------------------------------------------------------------------\n",
    "categorical_features=[]\n",
    "numerical_features=[]"
   ]
  },
  {
   "cell_type": "markdown",
   "metadata": {},
   "source": [
    "***_Columns 1 to 10:_***"
   ]
  },
  {
   "cell_type": "code",
   "execution_count": 293,
   "metadata": {},
   "outputs": [
    {
     "data": {
      "text/plain": [
       "Index(['id', 'member_id', 'loan_amnt', 'funded_amnt', 'funded_amnt_inv',\n",
       "       'term', 'int_rate', 'installment', 'grade', 'sub_grade'],\n",
       "      dtype='object')"
      ]
     },
     "execution_count": 293,
     "metadata": {},
     "output_type": "execute_result"
    }
   ],
   "source": [
    "data.columns[:10]"
   ]
  },
  {
   "cell_type": "code",
   "execution_count": 294,
   "metadata": {
    "scrolled": false
   },
   "outputs": [
    {
     "name": "stdout",
     "output_type": "stream",
     "text": [
      "id \n",
      "\n",
      " 0     1077501\n",
      "1     1077430\n",
      "2     1077175\n",
      "3     1076863\n",
      "5     1075269\n",
      "6     1069639\n",
      "7     1072053\n",
      "8     1071795\n",
      "9     1071570\n",
      "10    1070078\n",
      "Name: id, dtype: object \n",
      "\n",
      "\n",
      "\n",
      "member_id \n",
      "\n",
      " 0     1296599.0\n",
      "1     1314167.0\n",
      "2     1313524.0\n",
      "3     1277178.0\n",
      "5     1311441.0\n",
      "6     1304742.0\n",
      "7     1288686.0\n",
      "8     1306957.0\n",
      "9     1306721.0\n",
      "10    1305201.0\n",
      "Name: member_id, dtype: float64 \n",
      "\n",
      "\n",
      "\n",
      "loan_amnt \n",
      "\n",
      " 0      5000.0\n",
      "1      2500.0\n",
      "2      2400.0\n",
      "3     10000.0\n",
      "5      5000.0\n",
      "6      7000.0\n",
      "7      3000.0\n",
      "8      5600.0\n",
      "9      5375.0\n",
      "10     6500.0\n",
      "Name: loan_amnt, dtype: float64 \n",
      "\n",
      "\n",
      "\n",
      "funded_amnt \n",
      "\n",
      " 0      5000.0\n",
      "1      2500.0\n",
      "2      2400.0\n",
      "3     10000.0\n",
      "5      5000.0\n",
      "6      7000.0\n",
      "7      3000.0\n",
      "8      5600.0\n",
      "9      5375.0\n",
      "10     6500.0\n",
      "Name: funded_amnt, dtype: float64 \n",
      "\n",
      "\n",
      "\n",
      "funded_amnt_inv \n",
      "\n",
      " 0      4975.0\n",
      "1      2500.0\n",
      "2      2400.0\n",
      "3     10000.0\n",
      "5      5000.0\n",
      "6      7000.0\n",
      "7      3000.0\n",
      "8      5600.0\n",
      "9      5350.0\n",
      "10     6500.0\n",
      "Name: funded_amnt_inv, dtype: float64 \n",
      "\n",
      "\n",
      "\n",
      "term \n",
      "\n",
      " 0      36 months\n",
      "1      60 months\n",
      "2      36 months\n",
      "3      36 months\n",
      "5      36 months\n",
      "6      60 months\n",
      "7      36 months\n",
      "8      60 months\n",
      "9      60 months\n",
      "10     60 months\n",
      "Name: term, dtype: object \n",
      "\n",
      "\n",
      "\n",
      "int_rate \n",
      "\n",
      " 0      10.65%\n",
      "1      15.27%\n",
      "2      15.96%\n",
      "3      13.49%\n",
      "5       7.90%\n",
      "6      15.96%\n",
      "7      18.64%\n",
      "8      21.28%\n",
      "9      12.69%\n",
      "10     14.65%\n",
      "Name: int_rate, dtype: object \n",
      "\n",
      "\n",
      "\n",
      "installment \n",
      "\n",
      " 0     162.87\n",
      "1      59.83\n",
      "2      84.33\n",
      "3     339.31\n",
      "5     156.46\n",
      "6     170.08\n",
      "7     109.43\n",
      "8     152.39\n",
      "9     121.45\n",
      "10    153.45\n",
      "Name: installment, dtype: float64 \n",
      "\n",
      "\n",
      "\n",
      "grade \n",
      "\n",
      " 0     B\n",
      "1     C\n",
      "2     C\n",
      "3     C\n",
      "5     A\n",
      "6     C\n",
      "7     E\n",
      "8     F\n",
      "9     B\n",
      "10    C\n",
      "Name: grade, dtype: object \n",
      "\n",
      "\n",
      "\n"
     ]
    }
   ],
   "source": [
    "for col in data.columns[:9]:\n",
    "    print(col,'\\n'*2,data[col].head(10),'\\n'*3)"
   ]
  },
  {
   "cell_type": "markdown",
   "metadata": {},
   "source": [
    "**Results for columns 1 to 10:** Some columns contain data which won't be useful to predict the outcome (like id or member id which are specific to clients record withthe lending isntitution)  while other contain information which is not yet available at the time loans are approved or denied (like funded amount), others like graed an subgrade seem to be providing the same input as interest rate but as a categorical rather than continuous variable, we won't retain any of the two.\n",
    "\n",
    "**We retain:** \n",
    "\n",
    "**loan_amnt:** properly formated numerical feature\n",
    "\n",
    "**installment:** properly formated numerical feature\n",
    "\n",
    "**int_rate:** percentage sign needs to be removed and data turned into float\n",
    "\n",
    "**term:** word 'months' needs to be removed\n"
   ]
  },
  {
   "cell_type": "code",
   "execution_count": 295,
   "metadata": {},
   "outputs": [],
   "source": [
    "categorical_features.append('term')\n",
    "numerical_features.append('loan_amnt')\n",
    "numerical_features.append('installment')\n",
    "numerical_features.append('int_rate')"
   ]
  },
  {
   "cell_type": "markdown",
   "metadata": {},
   "source": [
    "***_Columns 11 to 20:_***"
   ]
  },
  {
   "cell_type": "code",
   "execution_count": 296,
   "metadata": {},
   "outputs": [
    {
     "data": {
      "text/plain": [
       "Index(['emp_title', 'emp_length', 'home_ownership', 'annual_inc',\n",
       "       'verification_status', 'issue_d', 'loan_status', 'pymnt_plan',\n",
       "       'purpose', 'title'],\n",
       "      dtype='object')"
      ]
     },
     "execution_count": 296,
     "metadata": {},
     "output_type": "execute_result"
    }
   ],
   "source": [
    "data.columns[10:20]"
   ]
  },
  {
   "cell_type": "code",
   "execution_count": 297,
   "metadata": {},
   "outputs": [
    {
     "name": "stdout",
     "output_type": "stream",
     "text": [
      "emp_title \n",
      "\n",
      " 0                           NaN\n",
      "1                         Ryder\n",
      "2                           NaN\n",
      "3           AIR RESOURCES BOARD\n",
      "5          Veolia Transportaton\n",
      "6     Southern Star Photography\n",
      "7               MKC Accounting \n",
      "8                           NaN\n",
      "9                     Starbucks\n",
      "10        Southwest Rural metro\n",
      "Name: emp_title, dtype: object \n",
      "\n",
      "\n",
      "\n",
      "emp_length \n",
      "\n",
      " 0     10+ years\n",
      "1      < 1 year\n",
      "2     10+ years\n",
      "3     10+ years\n",
      "5       3 years\n",
      "6       8 years\n",
      "7       9 years\n",
      "8       4 years\n",
      "9      < 1 year\n",
      "10      5 years\n",
      "Name: emp_length, dtype: object \n",
      "\n",
      "\n",
      "\n",
      "home_ownership \n",
      "\n",
      " 0     RENT\n",
      "1     RENT\n",
      "2     RENT\n",
      "3     RENT\n",
      "5     RENT\n",
      "6     RENT\n",
      "7     RENT\n",
      "8      OWN\n",
      "9     RENT\n",
      "10     OWN\n",
      "Name: home_ownership, dtype: object \n",
      "\n",
      "\n",
      "\n",
      "annual_inc \n",
      "\n",
      " 0     24000.0\n",
      "1     30000.0\n",
      "2     12252.0\n",
      "3     49200.0\n",
      "5     36000.0\n",
      "6     47004.0\n",
      "7     48000.0\n",
      "8     40000.0\n",
      "9     15000.0\n",
      "10    72000.0\n",
      "Name: annual_inc, dtype: float64 \n",
      "\n",
      "\n",
      "\n",
      "verification_status \n",
      "\n",
      " 0            Verified\n",
      "1     Source Verified\n",
      "2        Not Verified\n",
      "3     Source Verified\n",
      "5     Source Verified\n",
      "6        Not Verified\n",
      "7     Source Verified\n",
      "8     Source Verified\n",
      "9            Verified\n",
      "10       Not Verified\n",
      "Name: verification_status, dtype: object \n",
      "\n",
      "\n",
      "\n",
      "issue_d \n",
      "\n",
      " 0     Dec-2011\n",
      "1     Dec-2011\n",
      "2     Dec-2011\n",
      "3     Dec-2011\n",
      "5     Dec-2011\n",
      "6     Dec-2011\n",
      "7     Dec-2011\n",
      "8     Dec-2011\n",
      "9     Dec-2011\n",
      "10    Dec-2011\n",
      "Name: issue_d, dtype: object \n",
      "\n",
      "\n",
      "\n",
      "loan_status \n",
      "\n",
      " 0     0\n",
      "1     1\n",
      "2     0\n",
      "3     0\n",
      "5     0\n",
      "6     0\n",
      "7     0\n",
      "8     1\n",
      "9     1\n",
      "10    0\n",
      "Name: loan_status, dtype: object \n",
      "\n",
      "\n",
      "\n",
      "pymnt_plan \n",
      "\n",
      " 0     n\n",
      "1     n\n",
      "2     n\n",
      "3     n\n",
      "5     n\n",
      "6     n\n",
      "7     n\n",
      "8     n\n",
      "9     n\n",
      "10    n\n",
      "Name: pymnt_plan, dtype: object \n",
      "\n",
      "\n",
      "\n",
      "purpose \n",
      "\n",
      " 0            credit_card\n",
      "1                    car\n",
      "2         small_business\n",
      "3                  other\n",
      "5                wedding\n",
      "6     debt_consolidation\n",
      "7                    car\n",
      "8         small_business\n",
      "9                  other\n",
      "10    debt_consolidation\n",
      "Name: purpose, dtype: object \n",
      "\n",
      "\n",
      "\n",
      "title \n",
      "\n",
      " 0                                  Computer\n",
      "1                                      bike\n",
      "2                      real estate business\n",
      "3                                  personel\n",
      "5     My wedding loan I promise to pay back\n",
      "6                                      Loan\n",
      "7                           Car Downpayment\n",
      "8      Expand Business & Buy Debt Portfolio\n",
      "9               Building my credit history.\n",
      "10               High intrest Consolidation\n",
      "Name: title, dtype: object \n",
      "\n",
      "\n",
      "\n"
     ]
    }
   ],
   "source": [
    "for col in data.columns[10:20]:\n",
    "    print(col,'\\n'*2,data[col].head(10),'\\n'*3)"
   ]
  },
  {
   "cell_type": "markdown",
   "metadata": {},
   "source": [
    "**For the same reasons as previously, we retain:**\n",
    "\n",
    "**home_ownership:** will be turned into categorical\n",
    "\n",
    "**annual_inc:** to be properly formated numerical feature\n",
    "\n",
    "**purpose:** potential categorical\n",
    "\n",
    "**emp_length** : seems to mean employment length and a potential good numerical feature\n",
    "\n",
    "**verification_status** : categorical"
   ]
  },
  {
   "cell_type": "code",
   "execution_count": 298,
   "metadata": {},
   "outputs": [],
   "source": [
    "categorical_features.append('home_ownership')\n",
    "categorical_features.append('purpose')\n",
    "categorical_features.append('verification_status')\n",
    "numerical_features.append('emp_length')\n",
    "numerical_features.append('annual_inc')"
   ]
  },
  {
   "cell_type": "markdown",
   "metadata": {},
   "source": [
    "**Columns 21 to 30:**"
   ]
  },
  {
   "cell_type": "code",
   "execution_count": 299,
   "metadata": {},
   "outputs": [
    {
     "data": {
      "text/plain": [
       "Index(['zip_code', 'addr_state', 'dti', 'delinq_2yrs', 'earliest_cr_line',\n",
       "       'inq_last_6mths', 'open_acc', 'pub_rec', 'revol_bal', 'revol_util'],\n",
       "      dtype='object')"
      ]
     },
     "execution_count": 299,
     "metadata": {},
     "output_type": "execute_result"
    }
   ],
   "source": [
    "data.columns[20:30]"
   ]
  },
  {
   "cell_type": "code",
   "execution_count": 300,
   "metadata": {},
   "outputs": [
    {
     "name": "stdout",
     "output_type": "stream",
     "text": [
      "zip_code \n",
      "\n",
      " 0     860xx\n",
      "1     309xx\n",
      "2     606xx\n",
      "3     917xx\n",
      "5     852xx\n",
      "6     280xx\n",
      "7     900xx\n",
      "8     958xx\n",
      "9     774xx\n",
      "10    853xx\n",
      "Name: zip_code, dtype: object \n",
      "\n",
      "\n",
      "\n",
      "addr_state \n",
      "\n",
      " 0     AZ\n",
      "1     GA\n",
      "2     IL\n",
      "3     CA\n",
      "5     AZ\n",
      "6     NC\n",
      "7     CA\n",
      "8     CA\n",
      "9     TX\n",
      "10    AZ\n",
      "Name: addr_state, dtype: object \n",
      "\n",
      "\n",
      "\n",
      "dti \n",
      "\n",
      " 0     27.65\n",
      "1      1.00\n",
      "2      8.72\n",
      "3     20.00\n",
      "5     11.20\n",
      "6     23.51\n",
      "7      5.35\n",
      "8      5.55\n",
      "9     18.08\n",
      "10    16.12\n",
      "Name: dti, dtype: float64 \n",
      "\n",
      "\n",
      "\n",
      "delinq_2yrs \n",
      "\n",
      " 0     0.0\n",
      "1     0.0\n",
      "2     0.0\n",
      "3     0.0\n",
      "5     0.0\n",
      "6     0.0\n",
      "7     0.0\n",
      "8     0.0\n",
      "9     0.0\n",
      "10    0.0\n",
      "Name: delinq_2yrs, dtype: float64 \n",
      "\n",
      "\n",
      "\n",
      "earliest_cr_line \n",
      "\n",
      " 0     Jan-1985\n",
      "1     Apr-1999\n",
      "2     Nov-2001\n",
      "3     Feb-1996\n",
      "5     Nov-2004\n",
      "6     Jul-2005\n",
      "7     Jan-2007\n",
      "8     Apr-2004\n",
      "9     Sep-2004\n",
      "10    Jan-1998\n",
      "Name: earliest_cr_line, dtype: object \n",
      "\n",
      "\n",
      "\n",
      "inq_last_6mths \n",
      "\n",
      " 0     1.0\n",
      "1     5.0\n",
      "2     2.0\n",
      "3     1.0\n",
      "5     3.0\n",
      "6     1.0\n",
      "7     2.0\n",
      "8     2.0\n",
      "9     0.0\n",
      "10    2.0\n",
      "Name: inq_last_6mths, dtype: float64 \n",
      "\n",
      "\n",
      "\n",
      "open_acc \n",
      "\n",
      " 0      3.0\n",
      "1      3.0\n",
      "2      2.0\n",
      "3     10.0\n",
      "5      9.0\n",
      "6      7.0\n",
      "7      4.0\n",
      "8     11.0\n",
      "9      2.0\n",
      "10    14.0\n",
      "Name: open_acc, dtype: float64 \n",
      "\n",
      "\n",
      "\n",
      "pub_rec \n",
      "\n",
      " 0     0.0\n",
      "1     0.0\n",
      "2     0.0\n",
      "3     0.0\n",
      "5     0.0\n",
      "6     0.0\n",
      "7     0.0\n",
      "8     0.0\n",
      "9     0.0\n",
      "10    0.0\n",
      "Name: pub_rec, dtype: float64 \n",
      "\n",
      "\n",
      "\n",
      "revol_bal \n",
      "\n",
      " 0     13648.0\n",
      "1      1687.0\n",
      "2      2956.0\n",
      "3      5598.0\n",
      "5      7963.0\n",
      "6     17726.0\n",
      "7      8221.0\n",
      "8      5210.0\n",
      "9      9279.0\n",
      "10     4032.0\n",
      "Name: revol_bal, dtype: float64 \n",
      "\n",
      "\n",
      "\n",
      "revol_util \n",
      "\n",
      " 0     83.7%\n",
      "1      9.4%\n",
      "2     98.5%\n",
      "3       21%\n",
      "5     28.3%\n",
      "6     85.6%\n",
      "7     87.5%\n",
      "8     32.6%\n",
      "9     36.5%\n",
      "10    20.6%\n",
      "Name: revol_util, dtype: object \n",
      "\n",
      "\n",
      "\n"
     ]
    }
   ],
   "source": [
    "for col in data.columns[20:30]:\n",
    "    print(col,'\\n'*2,data[col].head(10),'\\n'*3)"
   ]
  },
  {
   "cell_type": "code",
   "execution_count": null,
   "metadata": {},
   "outputs": [],
   "source": []
  },
  {
   "cell_type": "markdown",
   "metadata": {},
   "source": [
    "**For the same reasons as previously, we retain:**\n",
    "\n",
    "**revol_util:** remove percentage sign and convert to float\n",
    "\n",
    "**revol_bal :** properly formated numerical feature\n",
    "\n",
    "**pub_rec:** turn to categorical\n",
    "\n",
    "**open_acc :** properly formated numerical feature\n",
    "\n",
    "**inq_last_6mths** : properly formated numerical feature\n",
    "\n",
    "**earliest_cr_line** : turn to numerical because it would create too many dummy variables as categorical\n",
    "\n",
    "**delinq_2yrs** : add as numerical\n",
    "\n",
    "**dti**: properly formated numerical feature"
   ]
  },
  {
   "cell_type": "code",
   "execution_count": 301,
   "metadata": {},
   "outputs": [],
   "source": [
    "numerical_features.append('pub_rec')\n",
    "numerical_features.append('earliest_cr_line')\n",
    "numerical_features.append('delinq_2yrs')\n",
    "numerical_features.append('revol_util')\n",
    "numerical_features.append('revol_bal')\n",
    "numerical_features.append('open_acc')\n",
    "numerical_features.append('inq_last_6mths')\n",
    "numerical_features.append('dti')"
   ]
  },
  {
   "cell_type": "markdown",
   "metadata": {},
   "source": [
    "**Columns 31 to 40:**"
   ]
  },
  {
   "cell_type": "code",
   "execution_count": 302,
   "metadata": {},
   "outputs": [
    {
     "data": {
      "text/plain": [
       "Index(['total_acc', 'initial_list_status', 'out_prncp', 'out_prncp_inv',\n",
       "       'total_pymnt', 'total_pymnt_inv', 'total_rec_prncp', 'total_rec_int',\n",
       "       'total_rec_late_fee', 'recoveries'],\n",
       "      dtype='object')"
      ]
     },
     "execution_count": 302,
     "metadata": {},
     "output_type": "execute_result"
    }
   ],
   "source": [
    "data.columns[30:40]"
   ]
  },
  {
   "cell_type": "code",
   "execution_count": 303,
   "metadata": {
    "scrolled": false
   },
   "outputs": [
    {
     "name": "stdout",
     "output_type": "stream",
     "text": [
      "total_acc \n",
      "\n",
      " 0      9.0\n",
      "1      4.0\n",
      "2     10.0\n",
      "3     37.0\n",
      "5     12.0\n",
      "6     11.0\n",
      "7      4.0\n",
      "8     13.0\n",
      "9      3.0\n",
      "10    23.0\n",
      "Name: total_acc, dtype: float64 \n",
      "\n",
      "\n",
      "\n",
      "initial_list_status \n",
      "\n",
      " 0     f\n",
      "1     f\n",
      "2     f\n",
      "3     f\n",
      "5     f\n",
      "6     f\n",
      "7     f\n",
      "8     f\n",
      "9     f\n",
      "10    f\n",
      "Name: initial_list_status, dtype: object \n",
      "\n",
      "\n",
      "\n",
      "out_prncp \n",
      "\n",
      " 0     0.0\n",
      "1     0.0\n",
      "2     0.0\n",
      "3     0.0\n",
      "5     0.0\n",
      "6     0.0\n",
      "7     0.0\n",
      "8     0.0\n",
      "9     0.0\n",
      "10    0.0\n",
      "Name: out_prncp, dtype: float64 \n",
      "\n",
      "\n",
      "\n",
      "out_prncp_inv \n",
      "\n",
      " 0     0.0\n",
      "1     0.0\n",
      "2     0.0\n",
      "3     0.0\n",
      "5     0.0\n",
      "6     0.0\n",
      "7     0.0\n",
      "8     0.0\n",
      "9     0.0\n",
      "10    0.0\n",
      "Name: out_prncp_inv, dtype: float64 \n",
      "\n",
      "\n",
      "\n",
      "total_pymnt \n",
      "\n",
      " 0      5863.155187\n",
      "1      1008.710000\n",
      "2      3005.666844\n",
      "3     12231.890000\n",
      "5      5632.210000\n",
      "6     10137.840008\n",
      "7      3939.135294\n",
      "8       646.020000\n",
      "9      1476.190000\n",
      "10     7678.017673\n",
      "Name: total_pymnt, dtype: float64 \n",
      "\n",
      "\n",
      "\n",
      "total_pymnt_inv \n",
      "\n",
      " 0      5833.84\n",
      "1      1008.71\n",
      "2      3005.67\n",
      "3     12231.89\n",
      "5      5632.21\n",
      "6     10137.84\n",
      "7      3939.14\n",
      "8       646.02\n",
      "9      1469.34\n",
      "10     7678.02\n",
      "Name: total_pymnt_inv, dtype: float64 \n",
      "\n",
      "\n",
      "\n",
      "total_rec_prncp \n",
      "\n",
      " 0      5000.00\n",
      "1       456.46\n",
      "2      2400.00\n",
      "3     10000.00\n",
      "5      5000.00\n",
      "6      7000.00\n",
      "7      3000.00\n",
      "8       162.02\n",
      "9       673.48\n",
      "10     6500.00\n",
      "Name: total_rec_prncp, dtype: float64 \n",
      "\n",
      "\n",
      "\n",
      "total_rec_int \n",
      "\n",
      " 0      863.16\n",
      "1      435.17\n",
      "2      605.67\n",
      "3     2214.92\n",
      "5      632.21\n",
      "6     3137.84\n",
      "7      939.14\n",
      "8      294.94\n",
      "9      533.42\n",
      "10    1178.02\n",
      "Name: total_rec_int, dtype: float64 \n",
      "\n",
      "\n",
      "\n",
      "total_rec_late_fee \n",
      "\n",
      " 0      0.00\n",
      "1      0.00\n",
      "2      0.00\n",
      "3     16.97\n",
      "5      0.00\n",
      "6      0.00\n",
      "7      0.00\n",
      "8      0.00\n",
      "9      0.00\n",
      "10     0.00\n",
      "Name: total_rec_late_fee, dtype: float64 \n",
      "\n",
      "\n",
      "\n",
      "recoveries \n",
      "\n",
      " 0       0.00\n",
      "1     117.08\n",
      "2       0.00\n",
      "3       0.00\n",
      "5       0.00\n",
      "6       0.00\n",
      "7       0.00\n",
      "8     189.06\n",
      "9     269.29\n",
      "10      0.00\n",
      "Name: recoveries, dtype: float64 \n",
      "\n",
      "\n",
      "\n"
     ]
    }
   ],
   "source": [
    "for col in data.columns[30:40]:\n",
    "    print(col,'\\n'*2,data[col].head(10),'\\n'*3)"
   ]
  },
  {
   "cell_type": "markdown",
   "metadata": {},
   "source": [
    "**For the same reasons as previously, we retain:**\n",
    "\n",
    "**total_acc:** properly formated numerical feature"
   ]
  },
  {
   "cell_type": "markdown",
   "metadata": {},
   "source": [
    "**Columns 41 to 52:**"
   ]
  },
  {
   "cell_type": "code",
   "execution_count": 304,
   "metadata": {},
   "outputs": [
    {
     "data": {
      "text/plain": [
       "Index(['last_pymnt_d', 'last_pymnt_amnt', 'last_credit_pull_d',\n",
       "       'collections_12_mths_ex_med', 'policy_code', 'application_type',\n",
       "       'acc_now_delinq', 'chargeoff_within_12_mths', 'delinq_amnt',\n",
       "       'pub_rec_bankruptcies', 'tax_liens'],\n",
       "      dtype='object')"
      ]
     },
     "execution_count": 304,
     "metadata": {},
     "output_type": "execute_result"
    }
   ],
   "source": [
    "data.columns[41:]"
   ]
  },
  {
   "cell_type": "code",
   "execution_count": 305,
   "metadata": {
    "scrolled": false
   },
   "outputs": [
    {
     "name": "stdout",
     "output_type": "stream",
     "text": [
      "collection_recovery_fee \n",
      "\n",
      " 0     0.00\n",
      "1     1.11\n",
      "2     0.00\n",
      "3     0.00\n",
      "5     0.00\n",
      "6     0.00\n",
      "7     0.00\n",
      "8     2.09\n",
      "9     2.52\n",
      "10    0.00\n",
      "Name: collection_recovery_fee, dtype: float64 \n",
      "\n",
      "\n",
      "\n",
      "last_pymnt_d \n",
      "\n",
      " 0     Jan-2015\n",
      "1     Apr-2013\n",
      "2     Jun-2014\n",
      "3     Jan-2015\n",
      "5     Jan-2015\n",
      "6     May-2016\n",
      "7     Jan-2015\n",
      "8     Apr-2012\n",
      "9     Nov-2012\n",
      "10    Jun-2013\n",
      "Name: last_pymnt_d, dtype: object \n",
      "\n",
      "\n",
      "\n",
      "last_pymnt_amnt \n",
      "\n",
      " 0      171.62\n",
      "1      119.66\n",
      "2      649.91\n",
      "3      357.48\n",
      "5      161.03\n",
      "6     1313.76\n",
      "7      111.34\n",
      "8      152.39\n",
      "9      121.45\n",
      "10    1655.54\n",
      "Name: last_pymnt_amnt, dtype: float64 \n",
      "\n",
      "\n",
      "\n",
      "last_credit_pull_d \n",
      "\n",
      " 0     Jun-2016\n",
      "1     Sep-2013\n",
      "2     Jun-2016\n",
      "3     Apr-2016\n",
      "5     Jan-2016\n",
      "6     May-2016\n",
      "7     Dec-2014\n",
      "8     Aug-2012\n",
      "9     Mar-2013\n",
      "10    Dec-2015\n",
      "Name: last_credit_pull_d, dtype: object \n",
      "\n",
      "\n",
      "\n",
      "collections_12_mths_ex_med \n",
      "\n",
      " 0     0.0\n",
      "1     0.0\n",
      "2     0.0\n",
      "3     0.0\n",
      "5     0.0\n",
      "6     0.0\n",
      "7     0.0\n",
      "8     0.0\n",
      "9     0.0\n",
      "10    0.0\n",
      "Name: collections_12_mths_ex_med, dtype: float64 \n",
      "\n",
      "\n",
      "\n",
      "policy_code \n",
      "\n",
      " 0     1.0\n",
      "1     1.0\n",
      "2     1.0\n",
      "3     1.0\n",
      "5     1.0\n",
      "6     1.0\n",
      "7     1.0\n",
      "8     1.0\n",
      "9     1.0\n",
      "10    1.0\n",
      "Name: policy_code, dtype: float64 \n",
      "\n",
      "\n",
      "\n",
      "application_type \n",
      "\n",
      " 0     INDIVIDUAL\n",
      "1     INDIVIDUAL\n",
      "2     INDIVIDUAL\n",
      "3     INDIVIDUAL\n",
      "5     INDIVIDUAL\n",
      "6     INDIVIDUAL\n",
      "7     INDIVIDUAL\n",
      "8     INDIVIDUAL\n",
      "9     INDIVIDUAL\n",
      "10    INDIVIDUAL\n",
      "Name: application_type, dtype: object \n",
      "\n",
      "\n",
      "\n",
      "acc_now_delinq \n",
      "\n",
      " 0     0.0\n",
      "1     0.0\n",
      "2     0.0\n",
      "3     0.0\n",
      "5     0.0\n",
      "6     0.0\n",
      "7     0.0\n",
      "8     0.0\n",
      "9     0.0\n",
      "10    0.0\n",
      "Name: acc_now_delinq, dtype: float64 \n",
      "\n",
      "\n",
      "\n",
      "chargeoff_within_12_mths \n",
      "\n",
      " 0     0.0\n",
      "1     0.0\n",
      "2     0.0\n",
      "3     0.0\n",
      "5     0.0\n",
      "6     0.0\n",
      "7     0.0\n",
      "8     0.0\n",
      "9     0.0\n",
      "10    0.0\n",
      "Name: chargeoff_within_12_mths, dtype: float64 \n",
      "\n",
      "\n",
      "\n",
      "delinq_amnt \n",
      "\n",
      " 0     0.0\n",
      "1     0.0\n",
      "2     0.0\n",
      "3     0.0\n",
      "5     0.0\n",
      "6     0.0\n",
      "7     0.0\n",
      "8     0.0\n",
      "9     0.0\n",
      "10    0.0\n",
      "Name: delinq_amnt, dtype: float64 \n",
      "\n",
      "\n",
      "\n",
      "pub_rec_bankruptcies \n",
      "\n",
      " 0     0.0\n",
      "1     0.0\n",
      "2     0.0\n",
      "3     0.0\n",
      "5     0.0\n",
      "6     0.0\n",
      "7     0.0\n",
      "8     0.0\n",
      "9     0.0\n",
      "10    0.0\n",
      "Name: pub_rec_bankruptcies, dtype: float64 \n",
      "\n",
      "\n",
      "\n",
      "tax_liens \n",
      "\n",
      " 0     0.0\n",
      "1     0.0\n",
      "2     0.0\n",
      "3     0.0\n",
      "5     0.0\n",
      "6     0.0\n",
      "7     0.0\n",
      "8     0.0\n",
      "9     0.0\n",
      "10    0.0\n",
      "Name: tax_liens, dtype: float64 \n",
      "\n",
      "\n",
      "\n"
     ]
    }
   ],
   "source": [
    "for col in data.columns[40:]:\n",
    "    print(col,'\\n'*2,data[col].head(10),'\\n'*3)"
   ]
  },
  {
   "cell_type": "markdown",
   "metadata": {},
   "source": [
    "**For the same reasons as previously, we retain:**\n",
    "\n",
    "**tax_liens:** numerical\n",
    "\n",
    "**last_credit_pull_d** : turn to numerical because it would create too many dummy variables as categorical\n",
    "\n",
    "**pub_rec_bankruptcies**: numerical"
   ]
  },
  {
   "cell_type": "code",
   "execution_count": 306,
   "metadata": {},
   "outputs": [],
   "source": [
    "numerical_features.append('tax_liens')\n",
    "numerical_features.append('last_credit_pull_d')\n",
    "numerical_features.append('pub_rec_bankruptcies')"
   ]
  },
  {
   "cell_type": "code",
   "execution_count": 307,
   "metadata": {},
   "outputs": [
    {
     "name": "stdout",
     "output_type": "stream",
     "text": [
      "We have 4 categorical_features and 16 numerical_features\n"
     ]
    }
   ],
   "source": [
    "print('We have', len(categorical_features),'categorical_features and',len(numerical_features),'numerical_features')"
   ]
  },
  {
   "cell_type": "code",
   "execution_count": 308,
   "metadata": {},
   "outputs": [
    {
     "data": {
      "text/plain": [
       "['term', 'home_ownership', 'purpose', 'verification_status']"
      ]
     },
     "execution_count": 308,
     "metadata": {},
     "output_type": "execute_result"
    }
   ],
   "source": [
    "categorical_features"
   ]
  },
  {
   "cell_type": "code",
   "execution_count": 309,
   "metadata": {},
   "outputs": [
    {
     "data": {
      "text/plain": [
       "['loan_amnt',\n",
       " 'installment',\n",
       " 'int_rate',\n",
       " 'emp_length',\n",
       " 'annual_inc',\n",
       " 'pub_rec',\n",
       " 'earliest_cr_line',\n",
       " 'delinq_2yrs',\n",
       " 'revol_util',\n",
       " 'revol_bal',\n",
       " 'open_acc',\n",
       " 'inq_last_6mths',\n",
       " 'dti',\n",
       " 'tax_liens',\n",
       " 'last_credit_pull_d',\n",
       " 'pub_rec_bankruptcies']"
      ]
     },
     "execution_count": 309,
     "metadata": {},
     "output_type": "execute_result"
    }
   ],
   "source": [
    "numerical_features"
   ]
  },
  {
   "cell_type": "markdown",
   "metadata": {},
   "source": [
    "## - Cleaning"
   ]
  },
  {
   "cell_type": "code",
   "execution_count": 247,
   "metadata": {},
   "outputs": [
    {
     "data": {
      "text/plain": [
       "index                            0\n",
       "id                               0\n",
       "member_id                        0\n",
       "loan_amnt                        0\n",
       "funded_amnt                      0\n",
       "funded_amnt_inv                  0\n",
       "term                             0\n",
       "int_rate                         0\n",
       "installment                      0\n",
       "grade                            0\n",
       "sub_grade                        0\n",
       "emp_title                     1370\n",
       "emp_length                       0\n",
       "home_ownership                   0\n",
       "annual_inc                       0\n",
       "verification_status              0\n",
       "issue_d                          0\n",
       "loan_status                      0\n",
       "pymnt_plan                       0\n",
       "purpose                          0\n",
       "title                           10\n",
       "zip_code                         0\n",
       "addr_state                       0\n",
       "dti                              0\n",
       "delinq_2yrs                      0\n",
       "earliest_cr_line                 0\n",
       "inq_last_6mths                   0\n",
       "open_acc                         0\n",
       "pub_rec                          0\n",
       "revol_bal                        0\n",
       "revol_util                       0\n",
       "total_acc                        0\n",
       "initial_list_status              0\n",
       "out_prncp                        0\n",
       "out_prncp_inv                    0\n",
       "total_pymnt                      0\n",
       "total_pymnt_inv                  0\n",
       "total_rec_prncp                  0\n",
       "total_rec_int                    0\n",
       "total_rec_late_fee               0\n",
       "recoveries                       0\n",
       "collection_recovery_fee          0\n",
       "last_pymnt_d                    62\n",
       "last_pymnt_amnt                  0\n",
       "last_credit_pull_d               0\n",
       "collections_12_mths_ex_med       2\n",
       "policy_code                      0\n",
       "application_type                 0\n",
       "acc_now_delinq                   0\n",
       "chargeoff_within_12_mths         2\n",
       "delinq_amnt                      0\n",
       "pub_rec_bankruptcies             0\n",
       "tax_liens                        0\n",
       "dtype: int64"
      ]
     },
     "execution_count": 247,
     "metadata": {},
     "output_type": "execute_result"
    }
   ],
   "source": [
    "#First we deal with Nulls across the entire data set before treating numerical and categorical separately to avoid rows mismatch\n",
    "#----------------------------------------------------------------------------------------------------------------------------\n",
    "data.isna().sum()"
   ]
  },
  {
   "cell_type": "markdown",
   "metadata": {},
   "source": [
    "Out of the columns we retained as features for modelling, the only ones that present NaN values are tax_liens, pub_rec_bankruptcies, revol_util and emp_length. tax_liens and revol_utill present a very loan number of null values and can be dropped without concern. Dropping emp_length and pub_rec_bankruptcies can increase the potential class imbalance that the data seems to be already exhibiting."
   ]
  },
  {
   "cell_type": "code",
   "execution_count": 248,
   "metadata": {},
   "outputs": [],
   "source": [
    "#Dropping tax_liens and revol_util NaN rows\n",
    "#-------------------------------------------------------------------------------------------------------------------------------\n",
    "data.dropna(subset=['tax_liens','revol_util','last_credit_pull_d'],inplace=True)"
   ]
  },
  {
   "cell_type": "markdown",
   "metadata": {},
   "source": [
    "**Can we drop rows where emp_length is null?**"
   ]
  },
  {
   "cell_type": "code",
   "execution_count": 249,
   "metadata": {},
   "outputs": [
    {
     "data": {
      "text/plain": [
       "Series([], Name: loan_status, dtype: int64)"
      ]
     },
     "execution_count": 249,
     "metadata": {},
     "output_type": "execute_result"
    }
   ],
   "source": [
    "data.loan_status[data.emp_length.isna()==True].value_counts()"
   ]
  },
  {
   "cell_type": "markdown",
   "metadata": {},
   "source": [
    "Out of the 5634 loans that were cahrged off, 228 or 4% occured on rows where we don't have information on employment length, we can afford to drop 4% of the rows with loans charged off without significant impact on class imbalance."
   ]
  },
  {
   "cell_type": "markdown",
   "metadata": {},
   "source": [
    "**Can we drop rows where pub_rec_bankruptcies is null?**"
   ]
  },
  {
   "cell_type": "code",
   "execution_count": 250,
   "metadata": {},
   "outputs": [
    {
     "data": {
      "text/plain": [
       "Series([], Name: loan_status, dtype: int64)"
      ]
     },
     "execution_count": 250,
     "metadata": {},
     "output_type": "execute_result"
    }
   ],
   "source": [
    "data.loan_status[data.pub_rec_bankruptcies.isna()==True].value_counts()"
   ]
  },
  {
   "cell_type": "markdown",
   "metadata": {},
   "source": [
    "Out of the 5634 loans that were charged off, 117 or 2% occured on rows where we don't have information on bankruptcy, we can afford to drop 2% of the rows with loans charged off without significant impact on class imbalance."
   ]
  },
  {
   "cell_type": "code",
   "execution_count": 251,
   "metadata": {},
   "outputs": [],
   "source": [
    "data.dropna(subset=['pub_rec_bankruptcies','emp_length'],inplace=True)"
   ]
  },
  {
   "cell_type": "code",
   "execution_count": 252,
   "metadata": {},
   "outputs": [],
   "source": [
    "data.reset_index(inplace=True)"
   ]
  },
  {
   "cell_type": "code",
   "execution_count": 253,
   "metadata": {},
   "outputs": [
    {
     "data": {
      "text/html": [
       "<div>\n",
       "<style scoped>\n",
       "    .dataframe tbody tr th:only-of-type {\n",
       "        vertical-align: middle;\n",
       "    }\n",
       "\n",
       "    .dataframe tbody tr th {\n",
       "        vertical-align: top;\n",
       "    }\n",
       "\n",
       "    .dataframe thead th {\n",
       "        text-align: right;\n",
       "    }\n",
       "</style>\n",
       "<table border=\"1\" class=\"dataframe\">\n",
       "  <thead>\n",
       "    <tr style=\"text-align: right;\">\n",
       "      <th></th>\n",
       "      <th>term</th>\n",
       "      <th>home_ownership</th>\n",
       "      <th>purpose</th>\n",
       "      <th>verification_status</th>\n",
       "    </tr>\n",
       "  </thead>\n",
       "  <tbody>\n",
       "    <tr>\n",
       "      <th>0</th>\n",
       "      <td>36 months</td>\n",
       "      <td>RENT</td>\n",
       "      <td>credit_card</td>\n",
       "      <td>Verified</td>\n",
       "    </tr>\n",
       "    <tr>\n",
       "      <th>1</th>\n",
       "      <td>60 months</td>\n",
       "      <td>RENT</td>\n",
       "      <td>car</td>\n",
       "      <td>Source Verified</td>\n",
       "    </tr>\n",
       "    <tr>\n",
       "      <th>2</th>\n",
       "      <td>36 months</td>\n",
       "      <td>RENT</td>\n",
       "      <td>small_business</td>\n",
       "      <td>Not Verified</td>\n",
       "    </tr>\n",
       "    <tr>\n",
       "      <th>3</th>\n",
       "      <td>36 months</td>\n",
       "      <td>RENT</td>\n",
       "      <td>other</td>\n",
       "      <td>Source Verified</td>\n",
       "    </tr>\n",
       "    <tr>\n",
       "      <th>4</th>\n",
       "      <td>36 months</td>\n",
       "      <td>RENT</td>\n",
       "      <td>wedding</td>\n",
       "      <td>Source Verified</td>\n",
       "    </tr>\n",
       "  </tbody>\n",
       "</table>\n",
       "</div>"
      ],
      "text/plain": [
       "         term home_ownership         purpose verification_status\n",
       "0   36 months           RENT     credit_card            Verified\n",
       "1   60 months           RENT             car     Source Verified\n",
       "2   36 months           RENT  small_business        Not Verified\n",
       "3   36 months           RENT           other     Source Verified\n",
       "4   36 months           RENT         wedding     Source Verified"
      ]
     },
     "execution_count": 253,
     "metadata": {},
     "output_type": "execute_result"
    }
   ],
   "source": [
    "#Creating a DataFrame for the Categorical Data\n",
    "#-----------------------------------------------------------------------------------------------------------------------------\n",
    "data_categorical=pd.DataFrame()\n",
    "for col in categorical_features:\n",
    "    data_categorical=pd.concat([ data_categorical, data[col]], axis= 1)\n",
    "\n",
    "data_categorical.head()"
   ]
  },
  {
   "cell_type": "code",
   "execution_count": 254,
   "metadata": {},
   "outputs": [
    {
     "data": {
      "text/html": [
       "<div>\n",
       "<style scoped>\n",
       "    .dataframe tbody tr th:only-of-type {\n",
       "        vertical-align: middle;\n",
       "    }\n",
       "\n",
       "    .dataframe tbody tr th {\n",
       "        vertical-align: top;\n",
       "    }\n",
       "\n",
       "    .dataframe thead th {\n",
       "        text-align: right;\n",
       "    }\n",
       "</style>\n",
       "<table border=\"1\" class=\"dataframe\">\n",
       "  <thead>\n",
       "    <tr style=\"text-align: right;\">\n",
       "      <th></th>\n",
       "      <th>loan_amnt</th>\n",
       "      <th>installment</th>\n",
       "      <th>int_rate</th>\n",
       "      <th>emp_length</th>\n",
       "      <th>annual_inc</th>\n",
       "      <th>pub_rec</th>\n",
       "      <th>earliest_cr_line</th>\n",
       "      <th>delinq_2yrs</th>\n",
       "      <th>revol_util</th>\n",
       "      <th>revol_bal</th>\n",
       "      <th>open_acc</th>\n",
       "      <th>inq_last_6mths</th>\n",
       "      <th>dti</th>\n",
       "      <th>tax_liens</th>\n",
       "      <th>last_credit_pull_d</th>\n",
       "      <th>pub_rec_bankruptcies</th>\n",
       "    </tr>\n",
       "  </thead>\n",
       "  <tbody>\n",
       "    <tr>\n",
       "      <th>0</th>\n",
       "      <td>5000.0</td>\n",
       "      <td>162.87</td>\n",
       "      <td>10.65%</td>\n",
       "      <td>10+ years</td>\n",
       "      <td>24000.0</td>\n",
       "      <td>0.0</td>\n",
       "      <td>Jan-1985</td>\n",
       "      <td>0.0</td>\n",
       "      <td>83.7%</td>\n",
       "      <td>13648.0</td>\n",
       "      <td>3.0</td>\n",
       "      <td>1.0</td>\n",
       "      <td>27.65</td>\n",
       "      <td>0.0</td>\n",
       "      <td>Jun-2016</td>\n",
       "      <td>0.0</td>\n",
       "    </tr>\n",
       "    <tr>\n",
       "      <th>1</th>\n",
       "      <td>2500.0</td>\n",
       "      <td>59.83</td>\n",
       "      <td>15.27%</td>\n",
       "      <td>&lt; 1 year</td>\n",
       "      <td>30000.0</td>\n",
       "      <td>0.0</td>\n",
       "      <td>Apr-1999</td>\n",
       "      <td>0.0</td>\n",
       "      <td>9.4%</td>\n",
       "      <td>1687.0</td>\n",
       "      <td>3.0</td>\n",
       "      <td>5.0</td>\n",
       "      <td>1.00</td>\n",
       "      <td>0.0</td>\n",
       "      <td>Sep-2013</td>\n",
       "      <td>0.0</td>\n",
       "    </tr>\n",
       "    <tr>\n",
       "      <th>2</th>\n",
       "      <td>2400.0</td>\n",
       "      <td>84.33</td>\n",
       "      <td>15.96%</td>\n",
       "      <td>10+ years</td>\n",
       "      <td>12252.0</td>\n",
       "      <td>0.0</td>\n",
       "      <td>Nov-2001</td>\n",
       "      <td>0.0</td>\n",
       "      <td>98.5%</td>\n",
       "      <td>2956.0</td>\n",
       "      <td>2.0</td>\n",
       "      <td>2.0</td>\n",
       "      <td>8.72</td>\n",
       "      <td>0.0</td>\n",
       "      <td>Jun-2016</td>\n",
       "      <td>0.0</td>\n",
       "    </tr>\n",
       "    <tr>\n",
       "      <th>3</th>\n",
       "      <td>10000.0</td>\n",
       "      <td>339.31</td>\n",
       "      <td>13.49%</td>\n",
       "      <td>10+ years</td>\n",
       "      <td>49200.0</td>\n",
       "      <td>0.0</td>\n",
       "      <td>Feb-1996</td>\n",
       "      <td>0.0</td>\n",
       "      <td>21%</td>\n",
       "      <td>5598.0</td>\n",
       "      <td>10.0</td>\n",
       "      <td>1.0</td>\n",
       "      <td>20.00</td>\n",
       "      <td>0.0</td>\n",
       "      <td>Apr-2016</td>\n",
       "      <td>0.0</td>\n",
       "    </tr>\n",
       "    <tr>\n",
       "      <th>4</th>\n",
       "      <td>5000.0</td>\n",
       "      <td>156.46</td>\n",
       "      <td>7.90%</td>\n",
       "      <td>3 years</td>\n",
       "      <td>36000.0</td>\n",
       "      <td>0.0</td>\n",
       "      <td>Nov-2004</td>\n",
       "      <td>0.0</td>\n",
       "      <td>28.3%</td>\n",
       "      <td>7963.0</td>\n",
       "      <td>9.0</td>\n",
       "      <td>3.0</td>\n",
       "      <td>11.20</td>\n",
       "      <td>0.0</td>\n",
       "      <td>Jan-2016</td>\n",
       "      <td>0.0</td>\n",
       "    </tr>\n",
       "  </tbody>\n",
       "</table>\n",
       "</div>"
      ],
      "text/plain": [
       "   loan_amnt  installment int_rate emp_length  annual_inc  pub_rec  \\\n",
       "0     5000.0       162.87   10.65%  10+ years     24000.0      0.0   \n",
       "1     2500.0        59.83   15.27%   < 1 year     30000.0      0.0   \n",
       "2     2400.0        84.33   15.96%  10+ years     12252.0      0.0   \n",
       "3    10000.0       339.31   13.49%  10+ years     49200.0      0.0   \n",
       "4     5000.0       156.46    7.90%    3 years     36000.0      0.0   \n",
       "\n",
       "  earliest_cr_line  delinq_2yrs revol_util  revol_bal  open_acc  \\\n",
       "0         Jan-1985          0.0      83.7%    13648.0       3.0   \n",
       "1         Apr-1999          0.0       9.4%     1687.0       3.0   \n",
       "2         Nov-2001          0.0      98.5%     2956.0       2.0   \n",
       "3         Feb-1996          0.0        21%     5598.0      10.0   \n",
       "4         Nov-2004          0.0      28.3%     7963.0       9.0   \n",
       "\n",
       "   inq_last_6mths    dti  tax_liens last_credit_pull_d  pub_rec_bankruptcies  \n",
       "0             1.0  27.65        0.0           Jun-2016                   0.0  \n",
       "1             5.0   1.00        0.0           Sep-2013                   0.0  \n",
       "2             2.0   8.72        0.0           Jun-2016                   0.0  \n",
       "3             1.0  20.00        0.0           Apr-2016                   0.0  \n",
       "4             3.0  11.20        0.0           Jan-2016                   0.0  "
      ]
     },
     "execution_count": 254,
     "metadata": {},
     "output_type": "execute_result"
    }
   ],
   "source": [
    "#Creating a DataFrame for the Numerical Data\n",
    "#-----------------------------------------------------------------------------------------------------------------------------\n",
    "data_numerical=pd.DataFrame()\n",
    "for col in numerical_features:\n",
    "    data_numerical=pd.concat([ data_numerical, data[col]], axis= 1)\n",
    "\n",
    "data_numerical.head()"
   ]
  },
  {
   "cell_type": "code",
   "execution_count": 255,
   "metadata": {},
   "outputs": [
    {
     "data": {
      "text/plain": [
       "loan_amnt               0\n",
       "installment             0\n",
       "int_rate                0\n",
       "emp_length              0\n",
       "annual_inc              0\n",
       "pub_rec                 0\n",
       "earliest_cr_line        0\n",
       "delinq_2yrs             0\n",
       "revol_util              0\n",
       "revol_bal               0\n",
       "open_acc                0\n",
       "inq_last_6mths          0\n",
       "dti                     0\n",
       "tax_liens               0\n",
       "last_credit_pull_d      0\n",
       "pub_rec_bankruptcies    0\n",
       "dtype: int64"
      ]
     },
     "execution_count": 255,
     "metadata": {},
     "output_type": "execute_result"
    }
   ],
   "source": [
    "#checking Nulls for numerical features to make sure we didn't forget any\n",
    "#--------------------------------------------------------------------------------------------------------------------------------\n",
    "data_numerical.isna().sum()"
   ]
  },
  {
   "cell_type": "code",
   "execution_count": 256,
   "metadata": {},
   "outputs": [],
   "source": [
    "#Removing percentage sign from revol_util column:\n",
    "#-----------------------------------------------------------------------------------------------------------------------------\n",
    "data_numerical['revol_util']=data_numerical['revol_util'].str.strip('%').astype(float)"
   ]
  },
  {
   "cell_type": "code",
   "execution_count": 257,
   "metadata": {},
   "outputs": [],
   "source": [
    "#Removing percentage sign from int_rate column:\n",
    "#-----------------------------------------------------------------------------------------------------------------------------\n",
    "data_numerical['int_rate']=data_numerical['int_rate'].str.strip('%').astype(float)"
   ]
  },
  {
   "cell_type": "code",
   "execution_count": 258,
   "metadata": {},
   "outputs": [],
   "source": [
    "#Converting dates to numerical because as categorical they would generate too many dummie variables\n",
    "#------------------------------------------------------------------------------------------------------------------------------\n",
    "for col in ['last_credit_pull_d', 'earliest_cr_line']:\n",
    "    data_numerical[col] = pd.DatetimeIndex(data_numerical[col]).astype(np.int64)*1e-9"
   ]
  },
  {
   "cell_type": "code",
   "execution_count": 259,
   "metadata": {},
   "outputs": [
    {
     "data": {
      "text/plain": [
       "array(['10+ years', '< 1 year', '3 years', '8 years', '9 years',\n",
       "       '4 years', '5 years', '1 year', '6 years', '2 years', '7 years'],\n",
       "      dtype=object)"
      ]
     },
     "execution_count": 259,
     "metadata": {},
     "output_type": "execute_result"
    }
   ],
   "source": [
    "#Dealing with the employmebt length column\n",
    "#-------------------------------------------------------------------------------------------------------------------------------\n",
    "data_numerical.emp_length.unique()"
   ]
  },
  {
   "cell_type": "code",
   "execution_count": 260,
   "metadata": {},
   "outputs": [],
   "source": [
    "#Converting to numerical\n",
    "#-----------------------------------------------------------------------------------------------------------------------------\n",
    "mapping_dict = {\n",
    "    'emp_length': {\n",
    "        '10+ years': 10,\n",
    "        '9 years': 9,\n",
    "        '8 years': 8,\n",
    "        '7 years': 7,\n",
    "        '6 years': 6,\n",
    "        '5 years': 5,\n",
    "        '4 years': 4,\n",
    "        '3 years': 3,\n",
    "        '2 years': 2,\n",
    "        '1 year': 1,\n",
    "        '< 1 year': 0,\n",
    "    }\n",
    "}\n",
    "\n",
    "data_numerical.replace(mapping_dict, inplace=True)"
   ]
  },
  {
   "cell_type": "code",
   "execution_count": 261,
   "metadata": {
    "scrolled": true
   },
   "outputs": [
    {
     "data": {
      "text/html": [
       "<div>\n",
       "<style scoped>\n",
       "    .dataframe tbody tr th:only-of-type {\n",
       "        vertical-align: middle;\n",
       "    }\n",
       "\n",
       "    .dataframe tbody tr th {\n",
       "        vertical-align: top;\n",
       "    }\n",
       "\n",
       "    .dataframe thead th {\n",
       "        text-align: right;\n",
       "    }\n",
       "</style>\n",
       "<table border=\"1\" class=\"dataframe\">\n",
       "  <thead>\n",
       "    <tr style=\"text-align: right;\">\n",
       "      <th></th>\n",
       "      <th>loan_amnt</th>\n",
       "      <th>installment</th>\n",
       "      <th>int_rate</th>\n",
       "      <th>emp_length</th>\n",
       "      <th>annual_inc</th>\n",
       "      <th>pub_rec</th>\n",
       "      <th>earliest_cr_line</th>\n",
       "      <th>delinq_2yrs</th>\n",
       "      <th>revol_util</th>\n",
       "      <th>revol_bal</th>\n",
       "      <th>open_acc</th>\n",
       "      <th>inq_last_6mths</th>\n",
       "      <th>dti</th>\n",
       "      <th>tax_liens</th>\n",
       "      <th>last_credit_pull_d</th>\n",
       "      <th>pub_rec_bankruptcies</th>\n",
       "    </tr>\n",
       "  </thead>\n",
       "  <tbody>\n",
       "    <tr>\n",
       "      <th>0</th>\n",
       "      <td>5000.0</td>\n",
       "      <td>162.87</td>\n",
       "      <td>10.65</td>\n",
       "      <td>10</td>\n",
       "      <td>24000.0</td>\n",
       "      <td>0.0</td>\n",
       "      <td>4.733856e+08</td>\n",
       "      <td>0.0</td>\n",
       "      <td>83.7</td>\n",
       "      <td>13648.0</td>\n",
       "      <td>3.0</td>\n",
       "      <td>1.0</td>\n",
       "      <td>27.65</td>\n",
       "      <td>0.0</td>\n",
       "      <td>1.464739e+09</td>\n",
       "      <td>0.0</td>\n",
       "    </tr>\n",
       "    <tr>\n",
       "      <th>1</th>\n",
       "      <td>2500.0</td>\n",
       "      <td>59.83</td>\n",
       "      <td>15.27</td>\n",
       "      <td>0</td>\n",
       "      <td>30000.0</td>\n",
       "      <td>0.0</td>\n",
       "      <td>9.229248e+08</td>\n",
       "      <td>0.0</td>\n",
       "      <td>9.4</td>\n",
       "      <td>1687.0</td>\n",
       "      <td>3.0</td>\n",
       "      <td>5.0</td>\n",
       "      <td>1.00</td>\n",
       "      <td>0.0</td>\n",
       "      <td>1.377994e+09</td>\n",
       "      <td>0.0</td>\n",
       "    </tr>\n",
       "    <tr>\n",
       "      <th>2</th>\n",
       "      <td>2400.0</td>\n",
       "      <td>84.33</td>\n",
       "      <td>15.96</td>\n",
       "      <td>10</td>\n",
       "      <td>12252.0</td>\n",
       "      <td>0.0</td>\n",
       "      <td>1.004573e+09</td>\n",
       "      <td>0.0</td>\n",
       "      <td>98.5</td>\n",
       "      <td>2956.0</td>\n",
       "      <td>2.0</td>\n",
       "      <td>2.0</td>\n",
       "      <td>8.72</td>\n",
       "      <td>0.0</td>\n",
       "      <td>1.464739e+09</td>\n",
       "      <td>0.0</td>\n",
       "    </tr>\n",
       "    <tr>\n",
       "      <th>3</th>\n",
       "      <td>10000.0</td>\n",
       "      <td>339.31</td>\n",
       "      <td>13.49</td>\n",
       "      <td>10</td>\n",
       "      <td>49200.0</td>\n",
       "      <td>0.0</td>\n",
       "      <td>8.231328e+08</td>\n",
       "      <td>0.0</td>\n",
       "      <td>21.0</td>\n",
       "      <td>5598.0</td>\n",
       "      <td>10.0</td>\n",
       "      <td>1.0</td>\n",
       "      <td>20.00</td>\n",
       "      <td>0.0</td>\n",
       "      <td>1.459469e+09</td>\n",
       "      <td>0.0</td>\n",
       "    </tr>\n",
       "    <tr>\n",
       "      <th>4</th>\n",
       "      <td>5000.0</td>\n",
       "      <td>156.46</td>\n",
       "      <td>7.90</td>\n",
       "      <td>3</td>\n",
       "      <td>36000.0</td>\n",
       "      <td>0.0</td>\n",
       "      <td>1.099267e+09</td>\n",
       "      <td>0.0</td>\n",
       "      <td>28.3</td>\n",
       "      <td>7963.0</td>\n",
       "      <td>9.0</td>\n",
       "      <td>3.0</td>\n",
       "      <td>11.20</td>\n",
       "      <td>0.0</td>\n",
       "      <td>1.451606e+09</td>\n",
       "      <td>0.0</td>\n",
       "    </tr>\n",
       "  </tbody>\n",
       "</table>\n",
       "</div>"
      ],
      "text/plain": [
       "   loan_amnt  installment  int_rate  emp_length  annual_inc  pub_rec  \\\n",
       "0     5000.0       162.87     10.65          10     24000.0      0.0   \n",
       "1     2500.0        59.83     15.27           0     30000.0      0.0   \n",
       "2     2400.0        84.33     15.96          10     12252.0      0.0   \n",
       "3    10000.0       339.31     13.49          10     49200.0      0.0   \n",
       "4     5000.0       156.46      7.90           3     36000.0      0.0   \n",
       "\n",
       "   earliest_cr_line  delinq_2yrs  revol_util  revol_bal  open_acc  \\\n",
       "0      4.733856e+08          0.0        83.7    13648.0       3.0   \n",
       "1      9.229248e+08          0.0         9.4     1687.0       3.0   \n",
       "2      1.004573e+09          0.0        98.5     2956.0       2.0   \n",
       "3      8.231328e+08          0.0        21.0     5598.0      10.0   \n",
       "4      1.099267e+09          0.0        28.3     7963.0       9.0   \n",
       "\n",
       "   inq_last_6mths    dti  tax_liens  last_credit_pull_d  pub_rec_bankruptcies  \n",
       "0             1.0  27.65        0.0        1.464739e+09                   0.0  \n",
       "1             5.0   1.00        0.0        1.377994e+09                   0.0  \n",
       "2             2.0   8.72        0.0        1.464739e+09                   0.0  \n",
       "3             1.0  20.00        0.0        1.459469e+09                   0.0  \n",
       "4             3.0  11.20        0.0        1.451606e+09                   0.0  "
      ]
     },
     "execution_count": 261,
     "metadata": {},
     "output_type": "execute_result"
    }
   ],
   "source": [
    "data_numerical.head()"
   ]
  },
  {
   "cell_type": "code",
   "execution_count": 262,
   "metadata": {},
   "outputs": [],
   "source": [
    "for col in data_numerical.columns:\n",
    "    data_numerical[col].astype(float)"
   ]
  },
  {
   "cell_type": "code",
   "execution_count": 263,
   "metadata": {},
   "outputs": [
    {
     "data": {
      "text/html": [
       "<div>\n",
       "<style scoped>\n",
       "    .dataframe tbody tr th:only-of-type {\n",
       "        vertical-align: middle;\n",
       "    }\n",
       "\n",
       "    .dataframe tbody tr th {\n",
       "        vertical-align: top;\n",
       "    }\n",
       "\n",
       "    .dataframe thead th {\n",
       "        text-align: right;\n",
       "    }\n",
       "</style>\n",
       "<table border=\"1\" class=\"dataframe\">\n",
       "  <thead>\n",
       "    <tr style=\"text-align: right;\">\n",
       "      <th></th>\n",
       "      <th>loan_amnt</th>\n",
       "      <th>installment</th>\n",
       "      <th>int_rate</th>\n",
       "      <th>emp_length</th>\n",
       "      <th>annual_inc</th>\n",
       "      <th>pub_rec</th>\n",
       "      <th>earliest_cr_line</th>\n",
       "      <th>delinq_2yrs</th>\n",
       "      <th>revol_util</th>\n",
       "      <th>revol_bal</th>\n",
       "      <th>open_acc</th>\n",
       "      <th>inq_last_6mths</th>\n",
       "      <th>dti</th>\n",
       "      <th>tax_liens</th>\n",
       "      <th>last_credit_pull_d</th>\n",
       "      <th>pub_rec_bankruptcies</th>\n",
       "    </tr>\n",
       "  </thead>\n",
       "  <tbody>\n",
       "    <tr>\n",
       "      <th>count</th>\n",
       "      <td>36989.000000</td>\n",
       "      <td>36989.000000</td>\n",
       "      <td>36989.000000</td>\n",
       "      <td>36989.000000</td>\n",
       "      <td>3.698900e+04</td>\n",
       "      <td>36989.000000</td>\n",
       "      <td>3.698900e+04</td>\n",
       "      <td>36989.000000</td>\n",
       "      <td>36989.000000</td>\n",
       "      <td>36989.000000</td>\n",
       "      <td>36989.000000</td>\n",
       "      <td>36989.000000</td>\n",
       "      <td>36989.00000</td>\n",
       "      <td>36989.0</td>\n",
       "      <td>3.698900e+04</td>\n",
       "      <td>36989.000000</td>\n",
       "    </tr>\n",
       "    <tr>\n",
       "      <th>mean</th>\n",
       "      <td>11172.230258</td>\n",
       "      <td>325.073393</td>\n",
       "      <td>11.999874</td>\n",
       "      <td>4.967477</td>\n",
       "      <td>6.945609e+04</td>\n",
       "      <td>0.054178</td>\n",
       "      <td>8.598158e+08</td>\n",
       "      <td>0.146152</td>\n",
       "      <td>48.999896</td>\n",
       "      <td>13381.643462</td>\n",
       "      <td>9.305848</td>\n",
       "      <td>0.869502</td>\n",
       "      <td>13.33784</td>\n",
       "      <td>0.0</td>\n",
       "      <td>1.411559e+09</td>\n",
       "      <td>0.041850</td>\n",
       "    </tr>\n",
       "    <tr>\n",
       "      <th>std</th>\n",
       "      <td>7383.992200</td>\n",
       "      <td>208.844669</td>\n",
       "      <td>3.707859</td>\n",
       "      <td>3.552827</td>\n",
       "      <td>6.396466e+04</td>\n",
       "      <td>0.235504</td>\n",
       "      <td>2.093383e+08</td>\n",
       "      <td>0.491792</td>\n",
       "      <td>28.310762</td>\n",
       "      <td>15844.117774</td>\n",
       "      <td>4.376308</td>\n",
       "      <td>1.067945</td>\n",
       "      <td>6.65307</td>\n",
       "      <td>0.0</td>\n",
       "      <td>5.408894e+07</td>\n",
       "      <td>0.200924</td>\n",
       "    </tr>\n",
       "    <tr>\n",
       "      <th>min</th>\n",
       "      <td>500.000000</td>\n",
       "      <td>16.080000</td>\n",
       "      <td>5.420000</td>\n",
       "      <td>0.000000</td>\n",
       "      <td>4.000000e+03</td>\n",
       "      <td>0.000000</td>\n",
       "      <td>-7.573824e+08</td>\n",
       "      <td>0.000000</td>\n",
       "      <td>0.000000</td>\n",
       "      <td>0.000000</td>\n",
       "      <td>2.000000</td>\n",
       "      <td>0.000000</td>\n",
       "      <td>0.00000</td>\n",
       "      <td>0.0</td>\n",
       "      <td>1.185926e+09</td>\n",
       "      <td>0.000000</td>\n",
       "    </tr>\n",
       "    <tr>\n",
       "      <th>25%</th>\n",
       "      <td>5500.000000</td>\n",
       "      <td>167.730000</td>\n",
       "      <td>8.940000</td>\n",
       "      <td>2.000000</td>\n",
       "      <td>4.120000e+04</td>\n",
       "      <td>0.000000</td>\n",
       "      <td>7.573824e+08</td>\n",
       "      <td>0.000000</td>\n",
       "      <td>25.600000</td>\n",
       "      <td>3730.000000</td>\n",
       "      <td>6.000000</td>\n",
       "      <td>0.000000</td>\n",
       "      <td>8.22000</td>\n",
       "      <td>0.0</td>\n",
       "      <td>1.370045e+09</td>\n",
       "      <td>0.000000</td>\n",
       "    </tr>\n",
       "    <tr>\n",
       "      <th>50%</th>\n",
       "      <td>10000.000000</td>\n",
       "      <td>280.610000</td>\n",
       "      <td>11.860000</td>\n",
       "      <td>4.000000</td>\n",
       "      <td>6.000000e+04</td>\n",
       "      <td>0.000000</td>\n",
       "      <td>8.992512e+08</td>\n",
       "      <td>0.000000</td>\n",
       "      <td>49.500000</td>\n",
       "      <td>8885.000000</td>\n",
       "      <td>9.000000</td>\n",
       "      <td>1.000000</td>\n",
       "      <td>13.43000</td>\n",
       "      <td>0.0</td>\n",
       "      <td>1.425168e+09</td>\n",
       "      <td>0.000000</td>\n",
       "    </tr>\n",
       "    <tr>\n",
       "      <th>75%</th>\n",
       "      <td>15000.000000</td>\n",
       "      <td>429.990000</td>\n",
       "      <td>14.540000</td>\n",
       "      <td>9.000000</td>\n",
       "      <td>8.300000e+04</td>\n",
       "      <td>0.000000</td>\n",
       "      <td>1.001894e+09</td>\n",
       "      <td>0.000000</td>\n",
       "      <td>72.500000</td>\n",
       "      <td>17043.000000</td>\n",
       "      <td>12.000000</td>\n",
       "      <td>1.000000</td>\n",
       "      <td>18.60000</td>\n",
       "      <td>0.0</td>\n",
       "      <td>1.464739e+09</td>\n",
       "      <td>0.000000</td>\n",
       "    </tr>\n",
       "    <tr>\n",
       "      <th>max</th>\n",
       "      <td>35000.000000</td>\n",
       "      <td>1305.190000</td>\n",
       "      <td>24.590000</td>\n",
       "      <td>10.000000</td>\n",
       "      <td>6.000000e+06</td>\n",
       "      <td>4.000000</td>\n",
       "      <td>1.225498e+09</td>\n",
       "      <td>11.000000</td>\n",
       "      <td>99.900000</td>\n",
       "      <td>149588.000000</td>\n",
       "      <td>44.000000</td>\n",
       "      <td>8.000000</td>\n",
       "      <td>29.99000</td>\n",
       "      <td>0.0</td>\n",
       "      <td>1.464739e+09</td>\n",
       "      <td>2.000000</td>\n",
       "    </tr>\n",
       "  </tbody>\n",
       "</table>\n",
       "</div>"
      ],
      "text/plain": [
       "          loan_amnt   installment      int_rate    emp_length    annual_inc  \\\n",
       "count  36989.000000  36989.000000  36989.000000  36989.000000  3.698900e+04   \n",
       "mean   11172.230258    325.073393     11.999874      4.967477  6.945609e+04   \n",
       "std     7383.992200    208.844669      3.707859      3.552827  6.396466e+04   \n",
       "min      500.000000     16.080000      5.420000      0.000000  4.000000e+03   \n",
       "25%     5500.000000    167.730000      8.940000      2.000000  4.120000e+04   \n",
       "50%    10000.000000    280.610000     11.860000      4.000000  6.000000e+04   \n",
       "75%    15000.000000    429.990000     14.540000      9.000000  8.300000e+04   \n",
       "max    35000.000000   1305.190000     24.590000     10.000000  6.000000e+06   \n",
       "\n",
       "            pub_rec  earliest_cr_line   delinq_2yrs    revol_util  \\\n",
       "count  36989.000000      3.698900e+04  36989.000000  36989.000000   \n",
       "mean       0.054178      8.598158e+08      0.146152     48.999896   \n",
       "std        0.235504      2.093383e+08      0.491792     28.310762   \n",
       "min        0.000000     -7.573824e+08      0.000000      0.000000   \n",
       "25%        0.000000      7.573824e+08      0.000000     25.600000   \n",
       "50%        0.000000      8.992512e+08      0.000000     49.500000   \n",
       "75%        0.000000      1.001894e+09      0.000000     72.500000   \n",
       "max        4.000000      1.225498e+09     11.000000     99.900000   \n",
       "\n",
       "           revol_bal      open_acc  inq_last_6mths          dti  tax_liens  \\\n",
       "count   36989.000000  36989.000000    36989.000000  36989.00000    36989.0   \n",
       "mean    13381.643462      9.305848        0.869502     13.33784        0.0   \n",
       "std     15844.117774      4.376308        1.067945      6.65307        0.0   \n",
       "min         0.000000      2.000000        0.000000      0.00000        0.0   \n",
       "25%      3730.000000      6.000000        0.000000      8.22000        0.0   \n",
       "50%      8885.000000      9.000000        1.000000     13.43000        0.0   \n",
       "75%     17043.000000     12.000000        1.000000     18.60000        0.0   \n",
       "max    149588.000000     44.000000        8.000000     29.99000        0.0   \n",
       "\n",
       "       last_credit_pull_d  pub_rec_bankruptcies  \n",
       "count        3.698900e+04          36989.000000  \n",
       "mean         1.411559e+09              0.041850  \n",
       "std          5.408894e+07              0.200924  \n",
       "min          1.185926e+09              0.000000  \n",
       "25%          1.370045e+09              0.000000  \n",
       "50%          1.425168e+09              0.000000  \n",
       "75%          1.464739e+09              0.000000  \n",
       "max          1.464739e+09              2.000000  "
      ]
     },
     "execution_count": 263,
     "metadata": {},
     "output_type": "execute_result"
    }
   ],
   "source": [
    "data_numerical.describe()"
   ]
  },
  {
   "cell_type": "markdown",
   "metadata": {},
   "source": [
    "## Categorical Data"
   ]
  },
  {
   "cell_type": "code",
   "execution_count": 264,
   "metadata": {},
   "outputs": [
    {
     "data": {
      "text/plain": [
       "term                   0\n",
       "home_ownership         0\n",
       "purpose                0\n",
       "verification_status    0\n",
       "dtype: int64"
      ]
     },
     "execution_count": 264,
     "metadata": {},
     "output_type": "execute_result"
    }
   ],
   "source": [
    "data_categorical.isna().sum()"
   ]
  },
  {
   "cell_type": "code",
   "execution_count": 265,
   "metadata": {},
   "outputs": [
    {
     "name": "stdout",
     "output_type": "stream",
     "text": [
      "<class 'pandas.core.frame.DataFrame'>\n",
      "RangeIndex: 36989 entries, 0 to 36988\n",
      "Data columns (total 4 columns):\n",
      "term                   36989 non-null object\n",
      "home_ownership         36989 non-null object\n",
      "purpose                36989 non-null object\n",
      "verification_status    36989 non-null object\n",
      "dtypes: object(4)\n",
      "memory usage: 1.1+ MB\n"
     ]
    }
   ],
   "source": [
    "data_categorical.info()"
   ]
  },
  {
   "cell_type": "code",
   "execution_count": 266,
   "metadata": {},
   "outputs": [
    {
     "name": "stdout",
     "output_type": "stream",
     "text": [
      "term \n",
      "\n",
      " [' 36 months' ' 60 months'] \n",
      "\n",
      "\n",
      "\n",
      "home_ownership \n",
      "\n",
      " ['RENT' 'OWN' 'MORTGAGE' 'OTHER'] \n",
      "\n",
      "\n",
      "\n",
      "purpose \n",
      "\n",
      " ['credit_card' 'car' 'small_business' 'other' 'wedding'\n",
      " 'debt_consolidation' 'home_improvement' 'major_purchase' 'medical'\n",
      " 'moving' 'vacation' 'house' 'renewable_energy' 'educational'] \n",
      "\n",
      "\n",
      "\n",
      "verification_status \n",
      "\n",
      " ['Verified' 'Source Verified' 'Not Verified'] \n",
      "\n",
      "\n",
      "\n"
     ]
    }
   ],
   "source": [
    "for col in data_categorical.columns:\n",
    "    print(col,'\\n'*2,data_categorical[col].unique(),'\\n'*3)"
   ]
  },
  {
   "cell_type": "code",
   "execution_count": 267,
   "metadata": {},
   "outputs": [],
   "source": [
    "#application type and tax_lien columns have only one value\n",
    "#-----------------------------------------------------------------------------------------------------------------------------\n",
    "data_numerical.drop(columns='tax_liens',axis=1, inplace=True)"
   ]
  },
  {
   "cell_type": "code",
   "execution_count": 268,
   "metadata": {},
   "outputs": [
    {
     "data": {
      "text/html": [
       "<div>\n",
       "<style scoped>\n",
       "    .dataframe tbody tr th:only-of-type {\n",
       "        vertical-align: middle;\n",
       "    }\n",
       "\n",
       "    .dataframe tbody tr th {\n",
       "        vertical-align: top;\n",
       "    }\n",
       "\n",
       "    .dataframe thead th {\n",
       "        text-align: right;\n",
       "    }\n",
       "</style>\n",
       "<table border=\"1\" class=\"dataframe\">\n",
       "  <thead>\n",
       "    <tr style=\"text-align: right;\">\n",
       "      <th></th>\n",
       "      <th>term</th>\n",
       "      <th>home_ownership</th>\n",
       "      <th>purpose</th>\n",
       "      <th>verification_status</th>\n",
       "    </tr>\n",
       "  </thead>\n",
       "  <tbody>\n",
       "    <tr>\n",
       "      <th>0</th>\n",
       "      <td>36 months</td>\n",
       "      <td>RENT</td>\n",
       "      <td>credit_card</td>\n",
       "      <td>Verified</td>\n",
       "    </tr>\n",
       "    <tr>\n",
       "      <th>1</th>\n",
       "      <td>60 months</td>\n",
       "      <td>RENT</td>\n",
       "      <td>car</td>\n",
       "      <td>Source Verified</td>\n",
       "    </tr>\n",
       "    <tr>\n",
       "      <th>2</th>\n",
       "      <td>36 months</td>\n",
       "      <td>RENT</td>\n",
       "      <td>small_business</td>\n",
       "      <td>Not Verified</td>\n",
       "    </tr>\n",
       "    <tr>\n",
       "      <th>3</th>\n",
       "      <td>36 months</td>\n",
       "      <td>RENT</td>\n",
       "      <td>other</td>\n",
       "      <td>Source Verified</td>\n",
       "    </tr>\n",
       "    <tr>\n",
       "      <th>4</th>\n",
       "      <td>36 months</td>\n",
       "      <td>RENT</td>\n",
       "      <td>wedding</td>\n",
       "      <td>Source Verified</td>\n",
       "    </tr>\n",
       "  </tbody>\n",
       "</table>\n",
       "</div>"
      ],
      "text/plain": [
       "         term home_ownership         purpose verification_status\n",
       "0   36 months           RENT     credit_card            Verified\n",
       "1   60 months           RENT             car     Source Verified\n",
       "2   36 months           RENT  small_business        Not Verified\n",
       "3   36 months           RENT           other     Source Verified\n",
       "4   36 months           RENT         wedding     Source Verified"
      ]
     },
     "execution_count": 268,
     "metadata": {},
     "output_type": "execute_result"
    }
   ],
   "source": [
    "data_categorical.head()"
   ]
  },
  {
   "cell_type": "code",
   "execution_count": 269,
   "metadata": {},
   "outputs": [],
   "source": [
    "#creating dummy variables\n",
    "#------------------------------------------------------------------------------------------------------------------------------\n",
    "for col in data_categorical.columns:\n",
    "    dummies = pd.get_dummies(data_categorical[col])\n",
    "    dummies.drop(dummies.columns[-1],axis=1,inplace=True)# dropping one of each to reduce multicoloniearity\n",
    "    data_categorical = pd.concat([data_categorical, dummies], axis=1)\n",
    "    data_categorical.drop(col, axis=1, inplace=True)  "
   ]
  },
  {
   "cell_type": "code",
   "execution_count": 270,
   "metadata": {
    "scrolled": true
   },
   "outputs": [
    {
     "data": {
      "text/html": [
       "<div>\n",
       "<style scoped>\n",
       "    .dataframe tbody tr th:only-of-type {\n",
       "        vertical-align: middle;\n",
       "    }\n",
       "\n",
       "    .dataframe tbody tr th {\n",
       "        vertical-align: top;\n",
       "    }\n",
       "\n",
       "    .dataframe thead th {\n",
       "        text-align: right;\n",
       "    }\n",
       "</style>\n",
       "<table border=\"1\" class=\"dataframe\">\n",
       "  <thead>\n",
       "    <tr style=\"text-align: right;\">\n",
       "      <th></th>\n",
       "      <th>36 months</th>\n",
       "      <th>MORTGAGE</th>\n",
       "      <th>OTHER</th>\n",
       "      <th>OWN</th>\n",
       "      <th>car</th>\n",
       "      <th>credit_card</th>\n",
       "      <th>debt_consolidation</th>\n",
       "      <th>educational</th>\n",
       "      <th>home_improvement</th>\n",
       "      <th>house</th>\n",
       "      <th>major_purchase</th>\n",
       "      <th>medical</th>\n",
       "      <th>moving</th>\n",
       "      <th>other</th>\n",
       "      <th>renewable_energy</th>\n",
       "      <th>small_business</th>\n",
       "      <th>vacation</th>\n",
       "      <th>Not Verified</th>\n",
       "      <th>Source Verified</th>\n",
       "    </tr>\n",
       "  </thead>\n",
       "  <tbody>\n",
       "    <tr>\n",
       "      <th>0</th>\n",
       "      <td>1</td>\n",
       "      <td>0</td>\n",
       "      <td>0</td>\n",
       "      <td>0</td>\n",
       "      <td>0</td>\n",
       "      <td>1</td>\n",
       "      <td>0</td>\n",
       "      <td>0</td>\n",
       "      <td>0</td>\n",
       "      <td>0</td>\n",
       "      <td>0</td>\n",
       "      <td>0</td>\n",
       "      <td>0</td>\n",
       "      <td>0</td>\n",
       "      <td>0</td>\n",
       "      <td>0</td>\n",
       "      <td>0</td>\n",
       "      <td>0</td>\n",
       "      <td>0</td>\n",
       "    </tr>\n",
       "    <tr>\n",
       "      <th>1</th>\n",
       "      <td>0</td>\n",
       "      <td>0</td>\n",
       "      <td>0</td>\n",
       "      <td>0</td>\n",
       "      <td>1</td>\n",
       "      <td>0</td>\n",
       "      <td>0</td>\n",
       "      <td>0</td>\n",
       "      <td>0</td>\n",
       "      <td>0</td>\n",
       "      <td>0</td>\n",
       "      <td>0</td>\n",
       "      <td>0</td>\n",
       "      <td>0</td>\n",
       "      <td>0</td>\n",
       "      <td>0</td>\n",
       "      <td>0</td>\n",
       "      <td>0</td>\n",
       "      <td>1</td>\n",
       "    </tr>\n",
       "    <tr>\n",
       "      <th>2</th>\n",
       "      <td>1</td>\n",
       "      <td>0</td>\n",
       "      <td>0</td>\n",
       "      <td>0</td>\n",
       "      <td>0</td>\n",
       "      <td>0</td>\n",
       "      <td>0</td>\n",
       "      <td>0</td>\n",
       "      <td>0</td>\n",
       "      <td>0</td>\n",
       "      <td>0</td>\n",
       "      <td>0</td>\n",
       "      <td>0</td>\n",
       "      <td>0</td>\n",
       "      <td>0</td>\n",
       "      <td>1</td>\n",
       "      <td>0</td>\n",
       "      <td>1</td>\n",
       "      <td>0</td>\n",
       "    </tr>\n",
       "    <tr>\n",
       "      <th>3</th>\n",
       "      <td>1</td>\n",
       "      <td>0</td>\n",
       "      <td>0</td>\n",
       "      <td>0</td>\n",
       "      <td>0</td>\n",
       "      <td>0</td>\n",
       "      <td>0</td>\n",
       "      <td>0</td>\n",
       "      <td>0</td>\n",
       "      <td>0</td>\n",
       "      <td>0</td>\n",
       "      <td>0</td>\n",
       "      <td>0</td>\n",
       "      <td>1</td>\n",
       "      <td>0</td>\n",
       "      <td>0</td>\n",
       "      <td>0</td>\n",
       "      <td>0</td>\n",
       "      <td>1</td>\n",
       "    </tr>\n",
       "    <tr>\n",
       "      <th>4</th>\n",
       "      <td>1</td>\n",
       "      <td>0</td>\n",
       "      <td>0</td>\n",
       "      <td>0</td>\n",
       "      <td>0</td>\n",
       "      <td>0</td>\n",
       "      <td>0</td>\n",
       "      <td>0</td>\n",
       "      <td>0</td>\n",
       "      <td>0</td>\n",
       "      <td>0</td>\n",
       "      <td>0</td>\n",
       "      <td>0</td>\n",
       "      <td>0</td>\n",
       "      <td>0</td>\n",
       "      <td>0</td>\n",
       "      <td>0</td>\n",
       "      <td>0</td>\n",
       "      <td>1</td>\n",
       "    </tr>\n",
       "  </tbody>\n",
       "</table>\n",
       "</div>"
      ],
      "text/plain": [
       "    36 months  MORTGAGE  OTHER  OWN  car  credit_card  debt_consolidation  \\\n",
       "0           1         0      0    0    0            1                   0   \n",
       "1           0         0      0    0    1            0                   0   \n",
       "2           1         0      0    0    0            0                   0   \n",
       "3           1         0      0    0    0            0                   0   \n",
       "4           1         0      0    0    0            0                   0   \n",
       "\n",
       "   educational  home_improvement  house  major_purchase  medical  moving  \\\n",
       "0            0                 0      0               0        0       0   \n",
       "1            0                 0      0               0        0       0   \n",
       "2            0                 0      0               0        0       0   \n",
       "3            0                 0      0               0        0       0   \n",
       "4            0                 0      0               0        0       0   \n",
       "\n",
       "   other  renewable_energy  small_business  vacation  Not Verified  \\\n",
       "0      0                 0               0         0             0   \n",
       "1      0                 0               0         0             0   \n",
       "2      0                 0               1         0             1   \n",
       "3      1                 0               0         0             0   \n",
       "4      0                 0               0         0             0   \n",
       "\n",
       "   Source Verified  \n",
       "0                0  \n",
       "1                1  \n",
       "2                0  \n",
       "3                1  \n",
       "4                1  "
      ]
     },
     "execution_count": 270,
     "metadata": {},
     "output_type": "execute_result"
    }
   ],
   "source": [
    "data_categorical.head()"
   ]
  },
  {
   "cell_type": "code",
   "execution_count": 271,
   "metadata": {},
   "outputs": [],
   "source": [
    "for col in data_categorical.columns:\n",
    "    data_categorical[col].astype(int)"
   ]
  },
  {
   "cell_type": "code",
   "execution_count": 272,
   "metadata": {},
   "outputs": [
    {
     "name": "stdout",
     "output_type": "stream",
     "text": [
      "(36989, 34) (36989,)\n"
     ]
    },
    {
     "data": {
      "text/html": [
       "<div>\n",
       "<style scoped>\n",
       "    .dataframe tbody tr th:only-of-type {\n",
       "        vertical-align: middle;\n",
       "    }\n",
       "\n",
       "    .dataframe tbody tr th {\n",
       "        vertical-align: top;\n",
       "    }\n",
       "\n",
       "    .dataframe thead th {\n",
       "        text-align: right;\n",
       "    }\n",
       "</style>\n",
       "<table border=\"1\" class=\"dataframe\">\n",
       "  <thead>\n",
       "    <tr style=\"text-align: right;\">\n",
       "      <th></th>\n",
       "      <th>loan_amnt</th>\n",
       "      <th>installment</th>\n",
       "      <th>int_rate</th>\n",
       "      <th>emp_length</th>\n",
       "      <th>annual_inc</th>\n",
       "      <th>pub_rec</th>\n",
       "      <th>earliest_cr_line</th>\n",
       "      <th>delinq_2yrs</th>\n",
       "      <th>revol_util</th>\n",
       "      <th>revol_bal</th>\n",
       "      <th>...</th>\n",
       "      <th>house</th>\n",
       "      <th>major_purchase</th>\n",
       "      <th>medical</th>\n",
       "      <th>moving</th>\n",
       "      <th>other</th>\n",
       "      <th>renewable_energy</th>\n",
       "      <th>small_business</th>\n",
       "      <th>vacation</th>\n",
       "      <th>Not Verified</th>\n",
       "      <th>Source Verified</th>\n",
       "    </tr>\n",
       "  </thead>\n",
       "  <tbody>\n",
       "    <tr>\n",
       "      <th>0</th>\n",
       "      <td>-0.835905</td>\n",
       "      <td>-0.776681</td>\n",
       "      <td>-0.364063</td>\n",
       "      <td>1.416503</td>\n",
       "      <td>-0.710653</td>\n",
       "      <td>-0.230056</td>\n",
       "      <td>-1.845986</td>\n",
       "      <td>-0.297185</td>\n",
       "      <td>1.225703</td>\n",
       "      <td>0.016811</td>\n",
       "      <td>...</td>\n",
       "      <td>0</td>\n",
       "      <td>0</td>\n",
       "      <td>0</td>\n",
       "      <td>0</td>\n",
       "      <td>0</td>\n",
       "      <td>0</td>\n",
       "      <td>0</td>\n",
       "      <td>0</td>\n",
       "      <td>0</td>\n",
       "      <td>0</td>\n",
       "    </tr>\n",
       "    <tr>\n",
       "      <th>1</th>\n",
       "      <td>-1.174480</td>\n",
       "      <td>-1.270068</td>\n",
       "      <td>0.881956</td>\n",
       "      <td>-1.398195</td>\n",
       "      <td>-0.616850</td>\n",
       "      <td>-0.230056</td>\n",
       "      <td>0.301473</td>\n",
       "      <td>-0.297185</td>\n",
       "      <td>-1.398777</td>\n",
       "      <td>-0.738116</td>\n",
       "      <td>...</td>\n",
       "      <td>0</td>\n",
       "      <td>0</td>\n",
       "      <td>0</td>\n",
       "      <td>0</td>\n",
       "      <td>0</td>\n",
       "      <td>0</td>\n",
       "      <td>0</td>\n",
       "      <td>0</td>\n",
       "      <td>0</td>\n",
       "      <td>1</td>\n",
       "    </tr>\n",
       "    <tr>\n",
       "      <th>2</th>\n",
       "      <td>-1.188022</td>\n",
       "      <td>-1.152755</td>\n",
       "      <td>1.068050</td>\n",
       "      <td>1.416503</td>\n",
       "      <td>-0.894320</td>\n",
       "      <td>-0.230056</td>\n",
       "      <td>0.691507</td>\n",
       "      <td>-0.297185</td>\n",
       "      <td>1.748479</td>\n",
       "      <td>-0.658022</td>\n",
       "      <td>...</td>\n",
       "      <td>0</td>\n",
       "      <td>0</td>\n",
       "      <td>0</td>\n",
       "      <td>0</td>\n",
       "      <td>0</td>\n",
       "      <td>0</td>\n",
       "      <td>1</td>\n",
       "      <td>0</td>\n",
       "      <td>1</td>\n",
       "      <td>0</td>\n",
       "    </tr>\n",
       "    <tr>\n",
       "      <th>3</th>\n",
       "      <td>-0.158755</td>\n",
       "      <td>0.068169</td>\n",
       "      <td>0.401888</td>\n",
       "      <td>1.416503</td>\n",
       "      <td>-0.316680</td>\n",
       "      <td>-0.230056</td>\n",
       "      <td>-0.175235</td>\n",
       "      <td>-0.297185</td>\n",
       "      <td>-0.989033</td>\n",
       "      <td>-0.491271</td>\n",
       "      <td>...</td>\n",
       "      <td>0</td>\n",
       "      <td>0</td>\n",
       "      <td>0</td>\n",
       "      <td>0</td>\n",
       "      <td>1</td>\n",
       "      <td>0</td>\n",
       "      <td>0</td>\n",
       "      <td>0</td>\n",
       "      <td>0</td>\n",
       "      <td>1</td>\n",
       "    </tr>\n",
       "    <tr>\n",
       "      <th>4</th>\n",
       "      <td>-0.835905</td>\n",
       "      <td>-0.807374</td>\n",
       "      <td>-1.105740</td>\n",
       "      <td>-0.553785</td>\n",
       "      <td>-0.523047</td>\n",
       "      <td>-0.230056</td>\n",
       "      <td>1.143865</td>\n",
       "      <td>-0.297185</td>\n",
       "      <td>-0.731177</td>\n",
       "      <td>-0.342002</td>\n",
       "      <td>...</td>\n",
       "      <td>0</td>\n",
       "      <td>0</td>\n",
       "      <td>0</td>\n",
       "      <td>0</td>\n",
       "      <td>0</td>\n",
       "      <td>0</td>\n",
       "      <td>0</td>\n",
       "      <td>0</td>\n",
       "      <td>0</td>\n",
       "      <td>1</td>\n",
       "    </tr>\n",
       "  </tbody>\n",
       "</table>\n",
       "<p>5 rows × 34 columns</p>\n",
       "</div>"
      ],
      "text/plain": [
       "   loan_amnt  installment  int_rate  emp_length  annual_inc   pub_rec  \\\n",
       "0  -0.835905    -0.776681 -0.364063    1.416503   -0.710653 -0.230056   \n",
       "1  -1.174480    -1.270068  0.881956   -1.398195   -0.616850 -0.230056   \n",
       "2  -1.188022    -1.152755  1.068050    1.416503   -0.894320 -0.230056   \n",
       "3  -0.158755     0.068169  0.401888    1.416503   -0.316680 -0.230056   \n",
       "4  -0.835905    -0.807374 -1.105740   -0.553785   -0.523047 -0.230056   \n",
       "\n",
       "   earliest_cr_line  delinq_2yrs  revol_util  revol_bal       ...         \\\n",
       "0         -1.845986    -0.297185    1.225703   0.016811       ...          \n",
       "1          0.301473    -0.297185   -1.398777  -0.738116       ...          \n",
       "2          0.691507    -0.297185    1.748479  -0.658022       ...          \n",
       "3         -0.175235    -0.297185   -0.989033  -0.491271       ...          \n",
       "4          1.143865    -0.297185   -0.731177  -0.342002       ...          \n",
       "\n",
       "   house  major_purchase  medical  moving  other  renewable_energy  \\\n",
       "0      0               0        0       0      0                 0   \n",
       "1      0               0        0       0      0                 0   \n",
       "2      0               0        0       0      0                 0   \n",
       "3      0               0        0       0      1                 0   \n",
       "4      0               0        0       0      0                 0   \n",
       "\n",
       "   small_business  vacation  Not Verified  Source Verified  \n",
       "0               0         0             0                0  \n",
       "1               0         0             0                1  \n",
       "2               1         0             1                0  \n",
       "3               0         0             0                1  \n",
       "4               0         0             0                1  \n",
       "\n",
       "[5 rows x 34 columns]"
      ]
     },
     "execution_count": 272,
     "metadata": {},
     "output_type": "execute_result"
    }
   ],
   "source": [
    "#Scaling\n",
    "#------------------------------------------------------------------------------------------------------------------------------\n",
    "scaler = StandardScaler()\n",
    "scaled_num = pd.DataFrame(scaler.fit_transform(data_numerical),columns=data_numerical.columns)\n",
    "\n",
    "#combining numercial and categorical in one data frame containing all feature that will be used during Modelling stage\n",
    "#------------------------------------------------------------------------------------------------------------------------------\n",
    "X=pd.concat([scaled_num,data_categorical],axis=1)\n",
    "#------------------------------------------------------------------------------------------------------------------------------\n",
    "y=data.loan_status\n",
    "print(X.shape, y.shape)\n",
    "X.head()"
   ]
  },
  {
   "cell_type": "markdown",
   "metadata": {},
   "source": [
    "## SMOT for Class Imbalance - Synthetic Minority Oversampling"
   ]
  },
  {
   "cell_type": "code",
   "execution_count": 273,
   "metadata": {},
   "outputs": [],
   "source": [
    "X_train, X_test, y_train, y_test = train_test_split(X, y, test_size=0.2, random_state=10)\n",
    "y_test=list(y_test)"
   ]
  },
  {
   "cell_type": "code",
   "execution_count": 274,
   "metadata": {},
   "outputs": [
    {
     "name": "stdout",
     "output_type": "stream",
     "text": [
      "0    25392\n",
      "1     4199\n",
      "Name: loan_status, dtype: int64\n",
      "1    25392\n",
      "0    25392\n",
      "dtype: int64\n"
     ]
    }
   ],
   "source": [
    "print(y_train.value_counts()) #Previous original class distribution\n",
    "X_train_resampled, y_train_resampled = SMOTE().fit_sample(X_train, y_train) \n",
    "print(pd.Series(y_train_resampled).value_counts()) #Preview synthetic sample class distribution\n",
    "y_train_resampled=list(y_train_resampled)\n",
    "y_train=list(y_train)"
   ]
  },
  {
   "cell_type": "markdown",
   "metadata": {},
   "source": [
    "## Performance Metric Selection\n",
    "\n",
    "The model will be used to determine who should be approved for a loan and who shouldnt, denying the loan to a client who will end up paying in full (false positives) represents a loss, but because interest is usually only a portion of principal the company will most likely be more confortbale not taking the chance when the risk is not to get reimbursed at all and lose the entire principal which represnets a higher amount. Thus the main concern here is to avoid approving somebody who won't be able to repay or in other words avoid false negatives. This is acheived by a model with a high recall rate. **Recall (or FPR) will be the performance evalution metric of chocie for our model. We also need to evalute TPR to make sure we are not declined too many qualified borrowers**"
   ]
  },
  {
   "cell_type": "markdown",
   "metadata": {},
   "source": [
    "## Logistic Regression"
   ]
  },
  {
   "cell_type": "code",
   "execution_count": 330,
   "metadata": {},
   "outputs": [
    {
     "data": {
      "text/plain": [
       "LogisticRegression(C=1.0, class_weight=None, dual=False, fit_intercept=True,\n",
       "          intercept_scaling=1, max_iter=100, multi_class='warn',\n",
       "          n_jobs=None, penalty='l2', random_state=None, solver='warn',\n",
       "          tol=0.0001, verbose=0, warm_start=False)"
      ]
     },
     "execution_count": 330,
     "metadata": {},
     "output_type": "execute_result"
    }
   ],
   "source": [
    "model=LogisticRegression()\n",
    "model.fit(X_train_resampled,y_train_resampled)"
   ]
  },
  {
   "cell_type": "code",
   "execution_count": 331,
   "metadata": {},
   "outputs": [],
   "source": [
    "y_pred=model.predict(X_test)"
   ]
  },
  {
   "cell_type": "code",
   "execution_count": 332,
   "metadata": {},
   "outputs": [
    {
     "name": "stdout",
     "output_type": "stream",
     "text": [
      "Confusion matrix, without normalization\n",
      "[[4201 2124]\n",
      " [ 379  694]]\n"
     ]
    },
    {
     "data": {
      "image/png": "[encoded data removed]",
      "text/plain": [
       "<Figure size 432x288 with 2 Axes>"
      ]
     },
     "metadata": {
      "needs_background": "light"
     },
     "output_type": "display_data"
    }
   ],
   "source": [
    "cnf_matrix = confusion_matrix(y_test, y_pred)\n",
    "plot_confusion_matrix(cnf_matrix, classes=[0,1])"
   ]
  },
  {
   "cell_type": "code",
   "execution_count": 333,
   "metadata": {},
   "outputs": [
    {
     "name": "stdout",
     "output_type": "stream",
     "text": [
      "65.0 % of the positives are appropriately identified, and  34.0 % of the negatives are appropriately identified.\n"
     ]
    }
   ],
   "source": [
    "perf(y_test,y_pred)"
   ]
  },
  {
   "cell_type": "code",
   "execution_count": 334,
   "metadata": {},
   "outputs": [
    {
     "name": "stdout",
     "output_type": "stream",
     "text": [
      "Test AUC: 0.7143980343980344\n",
      "train AUC: 0.7182368350216929\n"
     ]
    },
    {
     "data": {
      "image/png": "[encoded data removed]",
      "text/plain": [
       "<Figure size 720x576 with 1 Axes>"
      ]
     },
     "metadata": {
      "needs_background": "light"
     },
     "output_type": "display_data"
    }
   ],
   "source": [
    "rocurve(model, X_train_resampled, X_test, y_train_resampled, y_test)"
   ]
  },
  {
   "cell_type": "markdown",
   "metadata": {},
   "source": [
    "## Support Vector Machine"
   ]
  },
  {
   "cell_type": "markdown",
   "metadata": {},
   "source": [
    "Lets use PCA to minimize computation time"
   ]
  },
  {
   "cell_type": "code",
   "execution_count": 338,
   "metadata": {},
   "outputs": [
    {
     "data": {
      "text/plain": [
       "13"
      ]
     },
     "execution_count": 338,
     "metadata": {},
     "output_type": "execute_result"
    }
   ],
   "source": [
    "#Finding the number of Principal Components to use to preserver 90% of variance \n",
    "#---------------------------------------------------------------------------------\n",
    "min_comps=find_min_pca(X_train_resampled,0.9)\n",
    "min_comps"
   ]
  },
  {
   "cell_type": "code",
   "execution_count": 339,
   "metadata": {},
   "outputs": [
    {
     "name": "stdout",
     "output_type": "stream",
     "text": [
      "0.9058354902312984\n"
     ]
    }
   ],
   "source": [
    "#Verifying we are keeping the desired variance\n",
    "#----------------------------------------------------------------------------------------------------------\n",
    "pca = PCA(n_components=min_comps)\n",
    "principalComponents = pca.fit_transform(X_train_resampled)\n",
    "print(np.sum(pca.explained_variance_ratio_))"
   ]
  },
  {
   "cell_type": "code",
   "execution_count": 340,
   "metadata": {},
   "outputs": [],
   "source": [
    "model=Pipeline([('pca', PCA(n_components=min_comps)),('clf', svm.SVC(random_state=123))])\n",
    "model.fit(X_train_resampled, y_train_resampled)\n",
    "y_pred=model.predict(X_test)"
   ]
  },
  {
   "cell_type": "code",
   "execution_count": 341,
   "metadata": {},
   "outputs": [
    {
     "name": "stdout",
     "output_type": "stream",
     "text": [
      "Confusion matrix, without normalization\n",
      "[[4508 1817]\n",
      " [ 425  648]]\n"
     ]
    },
    {
     "data": {
      "image/png": "[encoded data removed]",
      "text/plain": [
       "<Figure size 432x288 with 2 Axes>"
      ]
     },
     "metadata": {
      "needs_background": "light"
     },
     "output_type": "display_data"
    }
   ],
   "source": [
    "cnf_matrix = confusion_matrix(y_test, y_pred)\n",
    "plot_confusion_matrix(cnf_matrix, classes=[0,1])"
   ]
  },
  {
   "cell_type": "code",
   "execution_count": 343,
   "metadata": {},
   "outputs": [
    {
     "name": "stdout",
     "output_type": "stream",
     "text": [
      "60.0 % of the positives are appropriately identified, and  28.999999999999996 % of the negatives are appropriately identified.\n"
     ]
    }
   ],
   "source": [
    "perf(y_test,y_pred)"
   ]
  },
  {
   "cell_type": "markdown",
   "metadata": {},
   "source": [
    "## Random Forest"
   ]
  },
  {
   "cell_type": "code",
   "execution_count": 345,
   "metadata": {},
   "outputs": [],
   "source": [
    "model=RandomForestClassifier()\n",
    "model.fit(X_train_resampled, y_train_resampled)\n",
    "y_pred=model.predict(X_test)"
   ]
  },
  {
   "cell_type": "code",
   "execution_count": 346,
   "metadata": {},
   "outputs": [
    {
     "name": "stdout",
     "output_type": "stream",
     "text": [
      "Confusion matrix, without normalization\n",
      "[[6029  296]\n",
      " [ 867  206]]\n"
     ]
    },
    {
     "data": {
      "image/png": "[encoded data removed]",
      "text/plain": [
       "<Figure size 432x288 with 2 Axes>"
      ]
     },
     "metadata": {
      "needs_background": "light"
     },
     "output_type": "display_data"
    }
   ],
   "source": [
    "cnf_matrix = confusion_matrix(y_test, y_pred)\n",
    "plot_confusion_matrix(cnf_matrix, classes=[0,1])"
   ]
  },
  {
   "cell_type": "code",
   "execution_count": 347,
   "metadata": {},
   "outputs": [
    {
     "name": "stdout",
     "output_type": "stream",
     "text": [
      "19.0 % of the positives are appropriately identified, and  5.0 % of the negatives are appropriately identified.\n"
     ]
    }
   ],
   "source": [
    "perf(y_test,y_pred)"
   ]
  },
  {
   "cell_type": "code",
   "execution_count": 348,
   "metadata": {},
   "outputs": [
    {
     "data": {
      "image/png": "[encoded data removed]",
      "text/plain": [
       "<Figure size 576x576 with 1 Axes>"
      ]
     },
     "metadata": {
      "needs_background": "light"
     },
     "output_type": "display_data"
    }
   ],
   "source": [
    "plot_feature_importances(model,X_train)"
   ]
  },
  {
   "cell_type": "markdown",
   "metadata": {},
   "source": [
    "## XGBoost"
   ]
  },
  {
   "cell_type": "code",
   "execution_count": 1,
   "metadata": {},
   "outputs": [],
   "source": [
    "import xgboost as xgb\n",
    "from sklearn.model_selection import GridSearchCV"
   ]
  },
  {
   "cell_type": "code",
   "execution_count": 2,
   "metadata": {},
   "outputs": [
    {
     "ename": "NameError",
     "evalue": "name 'X_train_resampled' is not defined",
     "output_type": "error",
     "traceback": [
      "\u001b[1;31m---------------------------------------------------------------------------\u001b[0m",
      "\u001b[1;31mNameError\u001b[0m                                 Traceback (most recent call last)",
      "\u001b[1;32m<ipython-input-2-e594cbc0ec7e>\u001b[0m in \u001b[0;36m<module>\u001b[1;34m()\u001b[0m\n\u001b[0;32m      1\u001b[0m \u001b[0mmodel\u001b[0m \u001b[1;33m=\u001b[0m \u001b[0mxgb\u001b[0m\u001b[1;33m.\u001b[0m\u001b[0mXGBClassifier\u001b[0m\u001b[1;33m(\u001b[0m\u001b[1;33m)\u001b[0m\u001b[1;33m\u001b[0m\u001b[0m\n\u001b[1;32m----> 2\u001b[1;33m \u001b[0mmodel\u001b[0m\u001b[1;33m.\u001b[0m\u001b[0mfit\u001b[0m\u001b[1;33m(\u001b[0m\u001b[0mX_train_resampled\u001b[0m\u001b[1;33m,\u001b[0m \u001b[0my_train_resampled\u001b[0m\u001b[1;33m)\u001b[0m\u001b[1;33m\u001b[0m\u001b[0m\n\u001b[0m\u001b[0;32m      3\u001b[0m \u001b[0mtraining_preds\u001b[0m \u001b[1;33m=\u001b[0m \u001b[0mmodel\u001b[0m\u001b[1;33m.\u001b[0m\u001b[0mpredict\u001b[0m\u001b[1;33m(\u001b[0m\u001b[0mX_train_resampled\u001b[0m\u001b[1;33m)\u001b[0m\u001b[1;33m\u001b[0m\u001b[0m\n\u001b[0;32m      4\u001b[0m \u001b[0mX_test2\u001b[0m\u001b[1;33m=\u001b[0m\u001b[0mnp\u001b[0m\u001b[1;33m.\u001b[0m\u001b[0marray\u001b[0m\u001b[1;33m(\u001b[0m\u001b[0mX_test\u001b[0m\u001b[1;33m)\u001b[0m\u001b[1;33m\u001b[0m\u001b[0m\n\u001b[0;32m      5\u001b[0m \u001b[0my_pred\u001b[0m \u001b[1;33m=\u001b[0m \u001b[0mmodel\u001b[0m\u001b[1;33m.\u001b[0m\u001b[0mpredict\u001b[0m\u001b[1;33m(\u001b[0m\u001b[0mX_test2\u001b[0m\u001b[1;33m)\u001b[0m\u001b[1;33m\u001b[0m\u001b[0m\n",
      "\u001b[1;31mNameError\u001b[0m: name 'X_train_resampled' is not defined"
     ]
    }
   ],
   "source": [
    "model = xgb.XGBClassifier()\n",
    "model.fit(X_train_resampled, y_train_resampled)\n",
    "training_preds = model.predict(X_train_resampled)\n",
    "X_test2=np.array(X_test)\n",
    "y_pred = model.predict(X_test2)\n",
    "training_accuracy = accuracy_score(y_train_resampled, training_preds)\n",
    "val_accuracy = accuracy_score(y_test, y_pred)\n",
    "\n",
    "print(\"Training Accuracy: {:.4}%\".format(training_accuracy * 100))\n",
    "print(\"Validation accuracy: {:.4}%\".format(val_accuracy * 100))\n",
    "perf(y_test,y_pred)"
   ]
  },
  {
   "cell_type": "code",
   "execution_count": 74,
   "metadata": {},
   "outputs": [],
   "source": [
    "param_grid = {\n",
    "    \"learning_rate\": [0.1],\n",
    "    'max_depth': [6,8],\n",
    "    'min_child_weight': [7,8,10],\n",
    "    'subsample': [ 0.7,0.9],\n",
    "    'n_estimators': [5, 30, 100, 250],\n",
    "}"
   ]
  },
  {
   "cell_type": "code",
   "execution_count": 75,
   "metadata": {},
   "outputs": [
    {
     "name": "stdout",
     "output_type": "stream",
     "text": [
      "Grid Search found the following optimal parameters: \n",
      "learning_rate: 0.1\n",
      "max_depth: 8\n",
      "min_child_weight: 8\n",
      "n_estimators: 250\n",
      "subsample: 0.9\n"
     ]
    }
   ],
   "source": [
    "grid_clf = GridSearchCV(model, param_grid, scoring='recall', cv=None, n_jobs=1)\n",
    "grid_clf.fit(X_train_resampled, y_train_resampled)\n",
    "\n",
    "best_parameters = grid_clf.best_params_\n",
    "\n",
    "print(\"Grid Search found the following optimal parameters: \")\n",
    "for param_name in sorted(best_parameters.keys()):\n",
    "    print(\"%s: %r\" % (param_name, best_parameters[param_name]))\n",
    "\n",
    "y_pred = grid_clf.predict(X_test2)\n"
   ]
  },
  {
   "cell_type": "code",
   "execution_count": 79,
   "metadata": {},
   "outputs": [
    {
     "name": "stdout",
     "output_type": "stream",
     "text": [
      "Confusion matrix, without normalization\n",
      "[[6060  265]\n",
      " [ 899  174]]\n"
     ]
    },
    {
     "data": {
      "image/png": "[encoded data removed]",
      "text/plain": [
       "<Figure size 432x288 with 2 Axes>"
      ]
     },
     "metadata": {
      "needs_background": "light"
     },
     "output_type": "display_data"
    }
   ],
   "source": [
    "cnf_matrix = confusion_matrix(y_test, y_pred)\n",
    "plot_confusion_matrix(cnf_matrix, classes=[0,1])"
   ]
  },
  {
   "cell_type": "code",
   "execution_count": 350,
   "metadata": {},
   "outputs": [
    {
     "name": "stdout",
     "output_type": "stream",
     "text": [
      "19.0 % of the positives are appropriately identified, and  5.0 % of the negatives are appropriately identified.\n"
     ]
    }
   ],
   "source": [
    "perf(y_test, y_pred)"
   ]
  },
  {
   "cell_type": "code",
   "execution_count": 351,
   "metadata": {},
   "outputs": [
    {
     "data": {
      "image/png": "[encoded data removed]",
      "text/plain": [
       "<Figure size 576x576 with 1 Axes>"
      ]
     },
     "metadata": {
      "needs_background": "light"
     },
     "output_type": "display_data"
    }
   ],
   "source": [
    "plot_feature_importances(model,X_train)"
   ]
  },
  {
   "cell_type": "markdown",
   "metadata": {},
   "source": [
    "## Conclusion\n",
    "\n",
    "- The logistic regression model gives us the best results by identifying 65% of the loans that won't be repaid but the downside is that the lender will only fund 34% of the loans that will be paid off. \n",
    "\n",
    "- Interest rate, date of last credit pull and length of the loan are the most important features in determining if a borrower will default\n"
   ]
  },
  {
   "cell_type": "markdown",
   "metadata": {},
   "source": [
    "## Next Steps"
   ]
  },
  {
   "cell_type": "markdown",
   "metadata": {},
   "source": [
    "- Work on class imbalance to improve predicting power of the model\n",
    "- Determine levels of interest rates insuring profitability despites undetected defaults \n",
    "- Optimize Random Forest Hyperparameters to improve model "
   ]
  },
  {
   "cell_type": "code",
   "execution_count": null,
   "metadata": {},
   "outputs": [],
   "source": []
  }
 ],
 "metadata": {
  "kernelspec": {
   "display_name": "Python 3",
   "language": "python",
   "name": "python3"
  },
  "language_info": {
   "codemirror_mode": {
    "name": "ipython",
    "version": 3
   },
   "file_extension": ".py",
   "mimetype": "text/x-python",
   "name": "python",
   "nbconvert_exporter": "python",
   "pygments_lexer": "ipython3",
   "version": "3.7.0"
  }
 },
 "nbformat": 4,
 "nbformat_minor": 2
}
